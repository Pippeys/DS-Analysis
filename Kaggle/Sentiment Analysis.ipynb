{
 "cells": [
  {
   "cell_type": "markdown",
   "metadata": {},
   "source": [
    "# Kaggle \n",
    "# Sentiment Analysis\n",
    "\n",
    "### I will first look into a basic prediction model for review type (good or bad)\n",
    "### Then I will look into developing a ***Subject Finder***\n",
    "    - This will hopefully give a classification subject for each review (movie,restaurant,item)"
   ]
  },
  {
   "cell_type": "code",
   "execution_count": 1,
   "metadata": {},
   "outputs": [
    {
     "name": "stderr",
     "output_type": "stream",
     "text": [
      "C:\\Users\\Scott\\Anaconda3\\lib\\site-packages\\gensim\\utils.py:1197: UserWarning: detected Windows; aliasing chunkize to chunkize_serial\n",
      "  warnings.warn(\"detected Windows; aliasing chunkize to chunkize_serial\")\n"
     ]
    }
   ],
   "source": [
    "import string\n",
    "import numpy as np\n",
    "import pandas as pd\n",
    "from gensim import corpora\n",
    "from nltk.corpus import stopwords,genesis\n",
    "from nltk import wordpunct_tokenize,FreqDist\n",
    "from sklearn.model_selection import train_test_split\n",
    "from nltk.collocations import TrigramAssocMeasures,TrigramCollocationFinder"
   ]
  },
  {
   "cell_type": "code",
   "execution_count": 2,
   "metadata": {},
   "outputs": [
    {
     "name": "stdout",
     "output_type": "stream",
     "text": [
      "1000\n"
     ]
    },
    {
     "data": {
      "text/html": [
       "<div>\n",
       "<style scoped>\n",
       "    .dataframe tbody tr th:only-of-type {\n",
       "        vertical-align: middle;\n",
       "    }\n",
       "\n",
       "    .dataframe tbody tr th {\n",
       "        vertical-align: top;\n",
       "    }\n",
       "\n",
       "    .dataframe thead th {\n",
       "        text-align: right;\n",
       "    }\n",
       "</style>\n",
       "<table border=\"1\" class=\"dataframe\">\n",
       "  <thead>\n",
       "    <tr style=\"text-align: right;\">\n",
       "      <th></th>\n",
       "      <th>Review</th>\n",
       "      <th>subject</th>\n",
       "    </tr>\n",
       "  </thead>\n",
       "  <tbody>\n",
       "    <tr>\n",
       "      <th>0</th>\n",
       "      <td>So there is no way for me to plug it in here i...</td>\n",
       "      <td>item</td>\n",
       "    </tr>\n",
       "    <tr>\n",
       "      <th>1</th>\n",
       "      <td>Good case, Excellent value.\\t1</td>\n",
       "      <td>item</td>\n",
       "    </tr>\n",
       "    <tr>\n",
       "      <th>2</th>\n",
       "      <td>Great for the jawbone.\\t1</td>\n",
       "      <td>item</td>\n",
       "    </tr>\n",
       "    <tr>\n",
       "      <th>3</th>\n",
       "      <td>Tied to charger for conversations lasting more...</td>\n",
       "      <td>item</td>\n",
       "    </tr>\n",
       "    <tr>\n",
       "      <th>4</th>\n",
       "      <td>The mic is great.\\t1</td>\n",
       "      <td>item</td>\n",
       "    </tr>\n",
       "  </tbody>\n",
       "</table>\n",
       "</div>"
      ],
      "text/plain": [
       "                                              Review subject\n",
       "0  So there is no way for me to plug it in here i...    item\n",
       "1                     Good case, Excellent value.\\t1    item\n",
       "2                          Great for the jawbone.\\t1    item\n",
       "3  Tied to charger for conversations lasting more...    item\n",
       "4                               The mic is great.\\t1    item"
      ]
     },
     "execution_count": 2,
     "metadata": {},
     "output_type": "execute_result"
    }
   ],
   "source": [
    "amazon = pd.read_fwf('amazon_cells_labelled.txt',header=None)\n",
    "amazon.columns = ['Review']\n",
    "print(len(amazon))\n",
    "amazon ['subject'] = 'item'\n",
    "amazon.head()"
   ]
  },
  {
   "cell_type": "code",
   "execution_count": 3,
   "metadata": {},
   "outputs": [
    {
     "name": "stdout",
     "output_type": "stream",
     "text": [
      "1000\n"
     ]
    },
    {
     "data": {
      "text/html": [
       "<div>\n",
       "<style scoped>\n",
       "    .dataframe tbody tr th:only-of-type {\n",
       "        vertical-align: middle;\n",
       "    }\n",
       "\n",
       "    .dataframe tbody tr th {\n",
       "        vertical-align: top;\n",
       "    }\n",
       "\n",
       "    .dataframe thead th {\n",
       "        text-align: right;\n",
       "    }\n",
       "</style>\n",
       "<table border=\"1\" class=\"dataframe\">\n",
       "  <thead>\n",
       "    <tr style=\"text-align: right;\">\n",
       "      <th></th>\n",
       "      <th>Review</th>\n",
       "      <th>subject</th>\n",
       "    </tr>\n",
       "  </thead>\n",
       "  <tbody>\n",
       "    <tr>\n",
       "      <th>0</th>\n",
       "      <td>A very, very, very slow-moving, aimless movie ...</td>\n",
       "      <td>movie</td>\n",
       "    </tr>\n",
       "    <tr>\n",
       "      <th>1</th>\n",
       "      <td>Not sure who was more lost - the flat characte...</td>\n",
       "      <td>movie</td>\n",
       "    </tr>\n",
       "    <tr>\n",
       "      <th>2</th>\n",
       "      <td>Attempting artiness with black &amp; white and cle...</td>\n",
       "      <td>movie</td>\n",
       "    </tr>\n",
       "    <tr>\n",
       "      <th>3</th>\n",
       "      <td>Very little music or anything to speak of.  \\t0</td>\n",
       "      <td>movie</td>\n",
       "    </tr>\n",
       "    <tr>\n",
       "      <th>4</th>\n",
       "      <td>The best scene in the movie was when Gerardo i...</td>\n",
       "      <td>movie</td>\n",
       "    </tr>\n",
       "  </tbody>\n",
       "</table>\n",
       "</div>"
      ],
      "text/plain": [
       "                                              Review subject\n",
       "0  A very, very, very slow-moving, aimless movie ...   movie\n",
       "1  Not sure who was more lost - the flat characte...   movie\n",
       "2  Attempting artiness with black & white and cle...   movie\n",
       "3    Very little music or anything to speak of.  \\t0   movie\n",
       "4  The best scene in the movie was when Gerardo i...   movie"
      ]
     },
     "execution_count": 3,
     "metadata": {},
     "output_type": "execute_result"
    }
   ],
   "source": [
    "imdb = pd.read_fwf('imdb_labelled.txt',header=None)\n",
    "imdb.columns = ['Review','0','1','2','3']\n",
    "imdb = imdb.drop(['0','1','2','3'],axis=1)\n",
    "imdb ['subject'] = 'movie'\n",
    "print(len(imdb))\n",
    "imdb.head()"
   ]
  },
  {
   "cell_type": "code",
   "execution_count": 4,
   "metadata": {},
   "outputs": [
    {
     "name": "stdout",
     "output_type": "stream",
     "text": [
      "1000\n"
     ]
    },
    {
     "data": {
      "text/html": [
       "<div>\n",
       "<style scoped>\n",
       "    .dataframe tbody tr th:only-of-type {\n",
       "        vertical-align: middle;\n",
       "    }\n",
       "\n",
       "    .dataframe tbody tr th {\n",
       "        vertical-align: top;\n",
       "    }\n",
       "\n",
       "    .dataframe thead th {\n",
       "        text-align: right;\n",
       "    }\n",
       "</style>\n",
       "<table border=\"1\" class=\"dataframe\">\n",
       "  <thead>\n",
       "    <tr style=\"text-align: right;\">\n",
       "      <th></th>\n",
       "      <th>Review</th>\n",
       "      <th>subject</th>\n",
       "    </tr>\n",
       "  </thead>\n",
       "  <tbody>\n",
       "    <tr>\n",
       "      <th>0</th>\n",
       "      <td>Wow... Loved this place.\\t1</td>\n",
       "      <td>restaurant</td>\n",
       "    </tr>\n",
       "    <tr>\n",
       "      <th>1</th>\n",
       "      <td>Crust is not good.\\t0</td>\n",
       "      <td>restaurant</td>\n",
       "    </tr>\n",
       "    <tr>\n",
       "      <th>2</th>\n",
       "      <td>Not tasty and the texture was just nasty.\\t0</td>\n",
       "      <td>restaurant</td>\n",
       "    </tr>\n",
       "    <tr>\n",
       "      <th>3</th>\n",
       "      <td>Stopped by during the late May bank holiday of...</td>\n",
       "      <td>restaurant</td>\n",
       "    </tr>\n",
       "    <tr>\n",
       "      <th>4</th>\n",
       "      <td>The selection on the menu was great and so wer...</td>\n",
       "      <td>restaurant</td>\n",
       "    </tr>\n",
       "  </tbody>\n",
       "</table>\n",
       "</div>"
      ],
      "text/plain": [
       "                                              Review     subject\n",
       "0                        Wow... Loved this place.\\t1  restaurant\n",
       "1                              Crust is not good.\\t0  restaurant\n",
       "2       Not tasty and the texture was just nasty.\\t0  restaurant\n",
       "3  Stopped by during the late May bank holiday of...  restaurant\n",
       "4  The selection on the menu was great and so wer...  restaurant"
      ]
     },
     "execution_count": 4,
     "metadata": {},
     "output_type": "execute_result"
    }
   ],
   "source": [
    "yelp = pd.read_fwf('yelp_labelled.txt',header=None)\n",
    "yelp.columns = ['Review','1','2']\n",
    "yelp = yelp.drop(['1','2'],axis=1)\n",
    "yelp ['subject'] = 'restaurant'\n",
    "print(len(yelp))\n",
    "yelp.head()"
   ]
  },
  {
   "cell_type": "code",
   "execution_count": 5,
   "metadata": {},
   "outputs": [
    {
     "data": {
      "text/plain": [
       "2999"
      ]
     },
     "execution_count": 5,
     "metadata": {},
     "output_type": "execute_result"
    }
   ],
   "source": [
    "frames = [amazon, yelp, imdb]\n",
    "df = pd.concat(frames,ignore_index=True)\n",
    "df = df[:-1]\n",
    "len(df)"
   ]
  },
  {
   "cell_type": "code",
   "execution_count": 6,
   "metadata": {},
   "outputs": [
    {
     "data": {
      "text/plain": [
       "2998    Exceptionally bad!  \\t0\n",
       "Name: Review, dtype: object"
      ]
     },
     "execution_count": 6,
     "metadata": {},
     "output_type": "execute_result"
    }
   ],
   "source": [
    "df.Review[-1:]"
   ]
  },
  {
   "cell_type": "code",
   "execution_count": 7,
   "metadata": {
    "collapsed": true
   },
   "outputs": [],
   "source": [
    "def create_word_features(review):\n",
    "    lower_review = review.lower()\n",
    "    words = wordpunct_tokenize(lower_review)\n",
    "    useful_words = [w for w in words \n",
    "                    if w not in string.punctuation \n",
    "                    and w not in stopwords.words('english')]\n",
    "    useful_words = useful_words[:-1]\n",
    "    return useful_words\n",
    "\n",
    "def create_all_words(review):\n",
    "    lower_review = review.lower()\n",
    "    words = wordpunct_tokenize(lower_review)\n",
    "    all_words = [w for w in words \n",
    "                    if w not in string.punctuation]\n",
    "    all_words = all_words[:-1]\n",
    "    return all_words\n",
    "\n",
    "def move_sentiment(number):\n",
    "    words = wordpunct_tokenize(number)\n",
    "    return words[-1]\n",
    "df ['sentiment'] = df.Review.apply(move_sentiment)\n",
    "df ['obj_words'] = df.Review.apply(create_word_features)\n",
    "df ['all_words'] = df.Review.apply(create_all_words)"
   ]
  },
  {
   "cell_type": "code",
   "execution_count": 8,
   "metadata": {
    "collapsed": true
   },
   "outputs": [],
   "source": [
    "df = df.loc[df.sentiment.isin(['1','0'])]\n",
    "df.sentiment = df.sentiment.astype(int)"
   ]
  },
  {
   "cell_type": "markdown",
   "metadata": {},
   "source": [
    "##### Need to find correlation between group of words and sentiment"
   ]
  },
  {
   "cell_type": "code",
   "execution_count": 9,
   "metadata": {
    "scrolled": false
   },
   "outputs": [
    {
     "data": {
      "text/html": [
       "<div>\n",
       "<style scoped>\n",
       "    .dataframe tbody tr th:only-of-type {\n",
       "        vertical-align: middle;\n",
       "    }\n",
       "\n",
       "    .dataframe tbody tr th {\n",
       "        vertical-align: top;\n",
       "    }\n",
       "\n",
       "    .dataframe thead th {\n",
       "        text-align: right;\n",
       "    }\n",
       "</style>\n",
       "<table border=\"1\" class=\"dataframe\">\n",
       "  <thead>\n",
       "    <tr style=\"text-align: right;\">\n",
       "      <th></th>\n",
       "      <th>Review</th>\n",
       "      <th>subject</th>\n",
       "      <th>sentiment</th>\n",
       "      <th>obj_words</th>\n",
       "      <th>all_words</th>\n",
       "      <th>obj_word_count</th>\n",
       "      <th>total_word_count</th>\n",
       "    </tr>\n",
       "  </thead>\n",
       "  <tbody>\n",
       "    <tr>\n",
       "      <th>0</th>\n",
       "      <td>So there is no way for me to plug it in here i...</td>\n",
       "      <td>item</td>\n",
       "      <td>0</td>\n",
       "      <td>[way, plug, us, unless, go, converter]</td>\n",
       "      <td>[so, there, is, no, way, for, me, to, plug, it...</td>\n",
       "      <td>6</td>\n",
       "      <td>21</td>\n",
       "    </tr>\n",
       "    <tr>\n",
       "      <th>1</th>\n",
       "      <td>Good case, Excellent value.\\t1</td>\n",
       "      <td>item</td>\n",
       "      <td>1</td>\n",
       "      <td>[good, case, excellent, value]</td>\n",
       "      <td>[good, case, excellent, value]</td>\n",
       "      <td>4</td>\n",
       "      <td>4</td>\n",
       "    </tr>\n",
       "    <tr>\n",
       "      <th>2</th>\n",
       "      <td>Great for the jawbone.\\t1</td>\n",
       "      <td>item</td>\n",
       "      <td>1</td>\n",
       "      <td>[great, jawbone]</td>\n",
       "      <td>[great, for, the, jawbone]</td>\n",
       "      <td>2</td>\n",
       "      <td>4</td>\n",
       "    </tr>\n",
       "    <tr>\n",
       "      <th>3</th>\n",
       "      <td>Tied to charger for conversations lasting more...</td>\n",
       "      <td>item</td>\n",
       "      <td>0</td>\n",
       "      <td>[tied, charger, conversations, lasting, 45, mi...</td>\n",
       "      <td>[tied, to, charger, for, conversations, lastin...</td>\n",
       "      <td>9</td>\n",
       "      <td>13</td>\n",
       "    </tr>\n",
       "    <tr>\n",
       "      <th>4</th>\n",
       "      <td>The mic is great.\\t1</td>\n",
       "      <td>item</td>\n",
       "      <td>1</td>\n",
       "      <td>[mic, great]</td>\n",
       "      <td>[the, mic, is, great]</td>\n",
       "      <td>2</td>\n",
       "      <td>4</td>\n",
       "    </tr>\n",
       "  </tbody>\n",
       "</table>\n",
       "</div>"
      ],
      "text/plain": [
       "                                              Review subject  sentiment  \\\n",
       "0  So there is no way for me to plug it in here i...    item          0   \n",
       "1                     Good case, Excellent value.\\t1    item          1   \n",
       "2                          Great for the jawbone.\\t1    item          1   \n",
       "3  Tied to charger for conversations lasting more...    item          0   \n",
       "4                               The mic is great.\\t1    item          1   \n",
       "\n",
       "                                           obj_words  \\\n",
       "0             [way, plug, us, unless, go, converter]   \n",
       "1                     [good, case, excellent, value]   \n",
       "2                                   [great, jawbone]   \n",
       "3  [tied, charger, conversations, lasting, 45, mi...   \n",
       "4                                       [mic, great]   \n",
       "\n",
       "                                           all_words  obj_word_count  \\\n",
       "0  [so, there, is, no, way, for, me, to, plug, it...               6   \n",
       "1                     [good, case, excellent, value]               4   \n",
       "2                         [great, for, the, jawbone]               2   \n",
       "3  [tied, to, charger, for, conversations, lastin...               9   \n",
       "4                              [the, mic, is, great]               2   \n",
       "\n",
       "   total_word_count  \n",
       "0                21  \n",
       "1                 4  \n",
       "2                 4  \n",
       "3                13  \n",
       "4                 4  "
      ]
     },
     "execution_count": 9,
     "metadata": {},
     "output_type": "execute_result"
    }
   ],
   "source": [
    "df ['obj_word_count'] = df.obj_words.apply(lambda x: len(x))\n",
    "df ['total_word_count'] = df.all_words.apply(lambda x: len(x))\n",
    "df.head()"
   ]
  },
  {
   "cell_type": "code",
   "execution_count": 10,
   "metadata": {
    "collapsed": true,
    "scrolled": true
   },
   "outputs": [],
   "source": [
    "import nltk, string, numpy\n",
    "\n",
    "stemmer = nltk.stem.porter.PorterStemmer()\n",
    "def StemTokens(tokens):\n",
    "    return [stemmer.stem(token) for token in tokens]\n",
    "lemmer = nltk.stem.WordNetLemmatizer()\n",
    "def LemTokens(tokens):\n",
    "    return [lemmer.lemmatize(token) for token in tokens]\n",
    "\n",
    "df['lem_words'] = df.obj_words.apply(LemTokens)\n",
    "df['stem_words'] = df.obj_words.apply(StemTokens)"
   ]
  },
  {
   "cell_type": "code",
   "execution_count": 11,
   "metadata": {
    "scrolled": true
   },
   "outputs": [
    {
     "data": {
      "text/html": [
       "<div>\n",
       "<style scoped>\n",
       "    .dataframe tbody tr th:only-of-type {\n",
       "        vertical-align: middle;\n",
       "    }\n",
       "\n",
       "    .dataframe tbody tr th {\n",
       "        vertical-align: top;\n",
       "    }\n",
       "\n",
       "    .dataframe thead th {\n",
       "        text-align: right;\n",
       "    }\n",
       "</style>\n",
       "<table border=\"1\" class=\"dataframe\">\n",
       "  <thead>\n",
       "    <tr style=\"text-align: right;\">\n",
       "      <th></th>\n",
       "      <th>Review</th>\n",
       "      <th>subject</th>\n",
       "      <th>sentiment</th>\n",
       "      <th>obj_words</th>\n",
       "      <th>all_words</th>\n",
       "      <th>obj_word_count</th>\n",
       "      <th>total_word_count</th>\n",
       "      <th>lem_words</th>\n",
       "      <th>stem_words</th>\n",
       "    </tr>\n",
       "  </thead>\n",
       "  <tbody>\n",
       "    <tr>\n",
       "      <th>0</th>\n",
       "      <td>So there is no way for me to plug it in here i...</td>\n",
       "      <td>item</td>\n",
       "      <td>0</td>\n",
       "      <td>[way, plug, us, unless, go, converter]</td>\n",
       "      <td>[so, there, is, no, way, for, me, to, plug, it...</td>\n",
       "      <td>6</td>\n",
       "      <td>21</td>\n",
       "      <td>[way, plug, u, unless, go, converter]</td>\n",
       "      <td>[way, plug, us, unless, go, convert]</td>\n",
       "    </tr>\n",
       "    <tr>\n",
       "      <th>1</th>\n",
       "      <td>Good case, Excellent value.\\t1</td>\n",
       "      <td>item</td>\n",
       "      <td>1</td>\n",
       "      <td>[good, case, excellent, value]</td>\n",
       "      <td>[good, case, excellent, value]</td>\n",
       "      <td>4</td>\n",
       "      <td>4</td>\n",
       "      <td>[good, case, excellent, value]</td>\n",
       "      <td>[good, case, excel, valu]</td>\n",
       "    </tr>\n",
       "    <tr>\n",
       "      <th>2</th>\n",
       "      <td>Great for the jawbone.\\t1</td>\n",
       "      <td>item</td>\n",
       "      <td>1</td>\n",
       "      <td>[great, jawbone]</td>\n",
       "      <td>[great, for, the, jawbone]</td>\n",
       "      <td>2</td>\n",
       "      <td>4</td>\n",
       "      <td>[great, jawbone]</td>\n",
       "      <td>[great, jawbon]</td>\n",
       "    </tr>\n",
       "    <tr>\n",
       "      <th>3</th>\n",
       "      <td>Tied to charger for conversations lasting more...</td>\n",
       "      <td>item</td>\n",
       "      <td>0</td>\n",
       "      <td>[tied, charger, conversations, lasting, 45, mi...</td>\n",
       "      <td>[tied, to, charger, for, conversations, lastin...</td>\n",
       "      <td>9</td>\n",
       "      <td>13</td>\n",
       "      <td>[tied, charger, conversation, lasting, 45, min...</td>\n",
       "      <td>[tie, charger, convers, last, 45, minut, major...</td>\n",
       "    </tr>\n",
       "    <tr>\n",
       "      <th>4</th>\n",
       "      <td>The mic is great.\\t1</td>\n",
       "      <td>item</td>\n",
       "      <td>1</td>\n",
       "      <td>[mic, great]</td>\n",
       "      <td>[the, mic, is, great]</td>\n",
       "      <td>2</td>\n",
       "      <td>4</td>\n",
       "      <td>[mic, great]</td>\n",
       "      <td>[mic, great]</td>\n",
       "    </tr>\n",
       "  </tbody>\n",
       "</table>\n",
       "</div>"
      ],
      "text/plain": [
       "                                              Review subject  sentiment  \\\n",
       "0  So there is no way for me to plug it in here i...    item          0   \n",
       "1                     Good case, Excellent value.\\t1    item          1   \n",
       "2                          Great for the jawbone.\\t1    item          1   \n",
       "3  Tied to charger for conversations lasting more...    item          0   \n",
       "4                               The mic is great.\\t1    item          1   \n",
       "\n",
       "                                           obj_words  \\\n",
       "0             [way, plug, us, unless, go, converter]   \n",
       "1                     [good, case, excellent, value]   \n",
       "2                                   [great, jawbone]   \n",
       "3  [tied, charger, conversations, lasting, 45, mi...   \n",
       "4                                       [mic, great]   \n",
       "\n",
       "                                           all_words  obj_word_count  \\\n",
       "0  [so, there, is, no, way, for, me, to, plug, it...               6   \n",
       "1                     [good, case, excellent, value]               4   \n",
       "2                         [great, for, the, jawbone]               2   \n",
       "3  [tied, to, charger, for, conversations, lastin...               9   \n",
       "4                              [the, mic, is, great]               2   \n",
       "\n",
       "   total_word_count                                          lem_words  \\\n",
       "0                21              [way, plug, u, unless, go, converter]   \n",
       "1                 4                     [good, case, excellent, value]   \n",
       "2                 4                                   [great, jawbone]   \n",
       "3                13  [tied, charger, conversation, lasting, 45, min...   \n",
       "4                 4                                       [mic, great]   \n",
       "\n",
       "                                          stem_words  \n",
       "0               [way, plug, us, unless, go, convert]  \n",
       "1                          [good, case, excel, valu]  \n",
       "2                                    [great, jawbon]  \n",
       "3  [tie, charger, convers, last, 45, minut, major...  \n",
       "4                                       [mic, great]  "
      ]
     },
     "execution_count": 11,
     "metadata": {},
     "output_type": "execute_result"
    }
   ],
   "source": [
    "df.head()"
   ]
  },
  {
   "cell_type": "code",
   "execution_count": 12,
   "metadata": {
    "collapsed": true
   },
   "outputs": [],
   "source": [
    "good_reviews = df.loc[df.sentiment == 1]\n",
    "bad_reviews = df.loc[df.sentiment == 0]"
   ]
  },
  {
   "cell_type": "code",
   "execution_count": 13,
   "metadata": {},
   "outputs": [
    {
     "data": {
      "text/plain": [
       "[('great', 197),\n",
       " ('good', 172),\n",
       " ('film', 114),\n",
       " ('phone', 93),\n",
       " ('movi', 93),\n",
       " ('work', 83),\n",
       " ('love', 82),\n",
       " ('one', 71),\n",
       " ('like', 68),\n",
       " ('well', 61)]"
      ]
     },
     "execution_count": 13,
     "metadata": {},
     "output_type": "execute_result"
    }
   ],
   "source": [
    "good_word_bank = []\n",
    "for row in good_reviews.stem_words:\n",
    "    for word in row:\n",
    "        good_word_bank.append(word)\n",
    "\n",
    "bad_word_bank = []\n",
    "for row in bad_reviews.stem_words:\n",
    "    for word in row:\n",
    "        bad_word_bank.append(word)\n",
    "good_freq = FreqDist(good_word_bank)\n",
    "bad_freq = FreqDist(bad_word_bank)\n",
    "good_freq.most_common(10)"
   ]
  },
  {
   "cell_type": "code",
   "execution_count": 14,
   "metadata": {},
   "outputs": [
    {
     "data": {
      "text/plain": [
       "0               [way, plug, us, unless, go, converter]\n",
       "1                       [good, case, excellent, value]\n",
       "2                                     [great, jawbone]\n",
       "3    [tied, charger, conversations, lasting, 45, mi...\n",
       "4                                         [mic, great]\n",
       "Name: obj_words, dtype: object"
      ]
     },
     "execution_count": 14,
     "metadata": {},
     "output_type": "execute_result"
    }
   ],
   "source": [
    "df.obj_words.head()"
   ]
  },
  {
   "cell_type": "code",
   "execution_count": 15,
   "metadata": {
    "scrolled": false
   },
   "outputs": [
    {
     "data": {
      "text/html": [
       "<div>\n",
       "<style scoped>\n",
       "    .dataframe tbody tr th:only-of-type {\n",
       "        vertical-align: middle;\n",
       "    }\n",
       "\n",
       "    .dataframe tbody tr th {\n",
       "        vertical-align: top;\n",
       "    }\n",
       "\n",
       "    .dataframe thead th {\n",
       "        text-align: right;\n",
       "    }\n",
       "</style>\n",
       "<table border=\"1\" class=\"dataframe\">\n",
       "  <thead>\n",
       "    <tr style=\"text-align: right;\">\n",
       "      <th></th>\n",
       "      <th>Review</th>\n",
       "      <th>subject</th>\n",
       "      <th>sentiment</th>\n",
       "      <th>obj_words</th>\n",
       "      <th>all_words</th>\n",
       "      <th>obj_word_count</th>\n",
       "      <th>total_word_count</th>\n",
       "      <th>lem_words</th>\n",
       "      <th>stem_words</th>\n",
       "      <th>word_list</th>\n",
       "    </tr>\n",
       "  </thead>\n",
       "  <tbody>\n",
       "    <tr>\n",
       "      <th>0</th>\n",
       "      <td>So there is no way for me to plug it in here i...</td>\n",
       "      <td>item</td>\n",
       "      <td>0</td>\n",
       "      <td>[way, plug, us, unless, go, converter]</td>\n",
       "      <td>[so, there, is, no, way, for, me, to, plug, it...</td>\n",
       "      <td>6</td>\n",
       "      <td>21</td>\n",
       "      <td>[way, plug, u, unless, go, converter]</td>\n",
       "      <td>[way, plug, us, unless, go, convert]</td>\n",
       "      <td>{'way': True, 'plug': True, 'us': True, 'unles...</td>\n",
       "    </tr>\n",
       "    <tr>\n",
       "      <th>1</th>\n",
       "      <td>Good case, Excellent value.\\t1</td>\n",
       "      <td>item</td>\n",
       "      <td>1</td>\n",
       "      <td>[good, case, excellent, value]</td>\n",
       "      <td>[good, case, excellent, value]</td>\n",
       "      <td>4</td>\n",
       "      <td>4</td>\n",
       "      <td>[good, case, excellent, value]</td>\n",
       "      <td>[good, case, excel, valu]</td>\n",
       "      <td>{'good': True, 'case': True, 'excellent': True...</td>\n",
       "    </tr>\n",
       "    <tr>\n",
       "      <th>2</th>\n",
       "      <td>Great for the jawbone.\\t1</td>\n",
       "      <td>item</td>\n",
       "      <td>1</td>\n",
       "      <td>[great, jawbone]</td>\n",
       "      <td>[great, for, the, jawbone]</td>\n",
       "      <td>2</td>\n",
       "      <td>4</td>\n",
       "      <td>[great, jawbone]</td>\n",
       "      <td>[great, jawbon]</td>\n",
       "      <td>{'great': True, 'jawbone': True}</td>\n",
       "    </tr>\n",
       "    <tr>\n",
       "      <th>3</th>\n",
       "      <td>Tied to charger for conversations lasting more...</td>\n",
       "      <td>item</td>\n",
       "      <td>0</td>\n",
       "      <td>[tied, charger, conversations, lasting, 45, mi...</td>\n",
       "      <td>[tied, to, charger, for, conversations, lastin...</td>\n",
       "      <td>9</td>\n",
       "      <td>13</td>\n",
       "      <td>[tied, charger, conversation, lasting, 45, min...</td>\n",
       "      <td>[tie, charger, convers, last, 45, minut, major...</td>\n",
       "      <td>{'tied': True, 'charger': True, 'conversations...</td>\n",
       "    </tr>\n",
       "    <tr>\n",
       "      <th>4</th>\n",
       "      <td>The mic is great.\\t1</td>\n",
       "      <td>item</td>\n",
       "      <td>1</td>\n",
       "      <td>[mic, great]</td>\n",
       "      <td>[the, mic, is, great]</td>\n",
       "      <td>2</td>\n",
       "      <td>4</td>\n",
       "      <td>[mic, great]</td>\n",
       "      <td>[mic, great]</td>\n",
       "      <td>{'mic': True, 'great': True}</td>\n",
       "    </tr>\n",
       "  </tbody>\n",
       "</table>\n",
       "</div>"
      ],
      "text/plain": [
       "                                              Review subject  sentiment  \\\n",
       "0  So there is no way for me to plug it in here i...    item          0   \n",
       "1                     Good case, Excellent value.\\t1    item          1   \n",
       "2                          Great for the jawbone.\\t1    item          1   \n",
       "3  Tied to charger for conversations lasting more...    item          0   \n",
       "4                               The mic is great.\\t1    item          1   \n",
       "\n",
       "                                           obj_words  \\\n",
       "0             [way, plug, us, unless, go, converter]   \n",
       "1                     [good, case, excellent, value]   \n",
       "2                                   [great, jawbone]   \n",
       "3  [tied, charger, conversations, lasting, 45, mi...   \n",
       "4                                       [mic, great]   \n",
       "\n",
       "                                           all_words  obj_word_count  \\\n",
       "0  [so, there, is, no, way, for, me, to, plug, it...               6   \n",
       "1                     [good, case, excellent, value]               4   \n",
       "2                         [great, for, the, jawbone]               2   \n",
       "3  [tied, to, charger, for, conversations, lastin...               9   \n",
       "4                              [the, mic, is, great]               2   \n",
       "\n",
       "   total_word_count                                          lem_words  \\\n",
       "0                21              [way, plug, u, unless, go, converter]   \n",
       "1                 4                     [good, case, excellent, value]   \n",
       "2                 4                                   [great, jawbone]   \n",
       "3                13  [tied, charger, conversation, lasting, 45, min...   \n",
       "4                 4                                       [mic, great]   \n",
       "\n",
       "                                          stem_words  \\\n",
       "0               [way, plug, us, unless, go, convert]   \n",
       "1                          [good, case, excel, valu]   \n",
       "2                                    [great, jawbon]   \n",
       "3  [tie, charger, convers, last, 45, minut, major...   \n",
       "4                                       [mic, great]   \n",
       "\n",
       "                                           word_list  \n",
       "0  {'way': True, 'plug': True, 'us': True, 'unles...  \n",
       "1  {'good': True, 'case': True, 'excellent': True...  \n",
       "2                   {'great': True, 'jawbone': True}  \n",
       "3  {'tied': True, 'charger': True, 'conversations...  \n",
       "4                       {'mic': True, 'great': True}  "
      ]
     },
     "execution_count": 15,
     "metadata": {},
     "output_type": "execute_result"
    }
   ],
   "source": [
    "def create_word_features (words):\n",
    "    my_dict = dict([(word, True) for word in words])\n",
    "    return my_dict\n",
    "\n",
    "df['word_list'] = df.obj_words.apply(create_word_features)\n",
    "\n",
    "df.head()"
   ]
  },
  {
   "cell_type": "code",
   "execution_count": 16,
   "metadata": {
    "collapsed": true
   },
   "outputs": [],
   "source": [
    "from sklearn.model_selection import train_test_split\n",
    "X_train, X_test, y_train, y_test = train_test_split(df.Review,df.sentiment,test_size = .33)"
   ]
  },
  {
   "cell_type": "code",
   "execution_count": 17,
   "metadata": {
    "collapsed": true
   },
   "outputs": [],
   "source": [
    "from sklearn.feature_extraction.text import CountVectorizer,TfidfTransformer\n",
    "count_vect = CountVectorizer()\n",
    "x_train_counts = count_vect.fit_transform(X_train)\n",
    "tfidf_transformer = TfidfTransformer()\n",
    "X_train_tfidf = tfidf_transformer.fit_transform(x_train_counts)\n",
    "\n",
    "x_test_counts = count_vect.transform(X_test)\n",
    "x_test_tfidf = tfidf_transformer.transform(x_test_counts)"
   ]
  },
  {
   "cell_type": "code",
   "execution_count": 18,
   "metadata": {
    "scrolled": true
   },
   "outputs": [
    {
     "data": {
      "text/plain": [
       "0.8223140495867769"
      ]
     },
     "execution_count": 18,
     "metadata": {},
     "output_type": "execute_result"
    }
   ],
   "source": [
    "from sklearn.naive_bayes import MultinomialNB\n",
    "clf = MultinomialNB().fit(X_train_tfidf,y_train)\n",
    "clf.score(x_test_tfidf,y_test)"
   ]
  },
  {
   "cell_type": "markdown",
   "metadata": {},
   "source": [
    "### Pipelines"
   ]
  },
  {
   "cell_type": "code",
   "execution_count": 19,
   "metadata": {
    "scrolled": true
   },
   "outputs": [
    {
     "data": {
      "text/plain": [
       "array([ 0.79286927,  0.80305603,  0.80814941])"
      ]
     },
     "execution_count": 19,
     "metadata": {},
     "output_type": "execute_result"
    }
   ],
   "source": [
    "from sklearn.pipeline import Pipeline\n",
    "from sklearn.model_selection import cross_val_score,ShuffleSplit\n",
    "\n",
    "text_clf = Pipeline([('vect', CountVectorizer()),\n",
    "                    ('tfidf',TfidfTransformer()),\n",
    "                    ('clf', MultinomialNB()),])\n",
    "cv = ShuffleSplit(n_splits=3,test_size = .3)\n",
    "cross_val_score(text_clf,X_train,y_train,cv=cv)"
   ]
  },
  {
   "cell_type": "code",
   "execution_count": 20,
   "metadata": {},
   "outputs": [
    {
     "data": {
      "text/plain": [
       "array([ 0.79456706,  0.79966044,  0.79966044])"
      ]
     },
     "execution_count": 20,
     "metadata": {},
     "output_type": "execute_result"
    }
   ],
   "source": [
    "from sklearn.linear_model import SGDClassifier\n",
    "text_clf = Pipeline([('vect', CountVectorizer()),\n",
    "                    ('tfidf',TfidfTransformer()),\n",
    "                    ('clf', SGDClassifier(loss='hinge',\n",
    "                                          alpha=1e-3,random_state=42))])\n",
    "cross_val_score(text_clf,X_train,y_train,cv=cv)"
   ]
  },
  {
   "cell_type": "code",
   "execution_count": 21,
   "metadata": {},
   "outputs": [
    {
     "data": {
      "text/plain": [
       "array([ 0.75042445,  0.762309  ,  0.75721562])"
      ]
     },
     "execution_count": 21,
     "metadata": {},
     "output_type": "execute_result"
    }
   ],
   "source": [
    "from sklearn.neighbors import KNeighborsClassifier\n",
    "text_clf = Pipeline([('vect', CountVectorizer()),\n",
    "                    ('tfidf',TfidfTransformer()),\n",
    "                    ('clf', KNeighborsClassifier())])\n",
    "cross_val_score(text_clf,X_train,y_train,cv=cv)"
   ]
  },
  {
   "cell_type": "code",
   "execution_count": 22,
   "metadata": {},
   "outputs": [
    {
     "data": {
      "text/plain": [
       "array([ 0.76570458,  0.78438031,  0.76061121])"
      ]
     },
     "execution_count": 22,
     "metadata": {},
     "output_type": "execute_result"
    }
   ],
   "source": [
    "from sklearn.linear_model import LogisticRegression\n",
    "text_clf = Pipeline([('vect', CountVectorizer()),\n",
    "                    ('tfidf',TfidfTransformer()),\n",
    "                    ('clf', LogisticRegression())])\n",
    "cross_val_score(text_clf,X_train,y_train,cv=cv)"
   ]
  },
  {
   "cell_type": "code",
   "execution_count": 23,
   "metadata": {},
   "outputs": [
    {
     "data": {
      "text/plain": [
       "array([ 0.65874363,  0.69779287,  0.67232598])"
      ]
     },
     "execution_count": 23,
     "metadata": {},
     "output_type": "execute_result"
    }
   ],
   "source": [
    "from sklearn.tree import DecisionTreeClassifier\n",
    "text_clf = Pipeline([('vect', CountVectorizer()),\n",
    "                    ('tfidf',TfidfTransformer()),\n",
    "                    ('clf', DecisionTreeClassifier())])\n",
    "cross_val_score(text_clf,X_train,y_train,cv=cv)"
   ]
  },
  {
   "cell_type": "code",
   "execution_count": 24,
   "metadata": {},
   "outputs": [
    {
     "data": {
      "text/plain": [
       "array([ 0.50933786,  0.48896435,  0.50764007])"
      ]
     },
     "execution_count": 24,
     "metadata": {},
     "output_type": "execute_result"
    }
   ],
   "source": [
    "from sklearn.svm import SVC\n",
    "text_clf = Pipeline([('vect', CountVectorizer()),\n",
    "                    ('tfidf',TfidfTransformer()),\n",
    "                    ('clf', SVC())])\n",
    "cross_val_score(text_clf,X_train,y_train,cv=cv)"
   ]
  },
  {
   "cell_type": "code",
   "execution_count": 25,
   "metadata": {
    "collapsed": true
   },
   "outputs": [],
   "source": [
    "from collections import Counter\n",
    "import nltk\n",
    "\n",
    "def noun_finder (words):\n",
    "    nouns = []\n",
    "    words = nltk.Text(words)\n",
    "    words = nltk.pos_tag(words)\n",
    "    for w in words:\n",
    "        if w[1] == 'NN' or w[1]== 'NNS' or w[1]== 'NNP' or w[1]== 'NNPS':\n",
    "            nouns.append(w[0])\n",
    "    return nouns\n",
    "\n",
    "def adj_finder (words):\n",
    "    adj = []\n",
    "    words = nltk.Text(words)\n",
    "    words = nltk.pos_tag(words)\n",
    "    for w in words:\n",
    "        if w[1] == 'JJ' or w[1] == 'JJR' or w[1] == 'JJS' or w[1] == 'RB' or w[1]== 'RBR' or w[1]== 'RBS':\n",
    "            adj.append(w[0])\n",
    "    return adj\n",
    "\n",
    "def verb_finder (words):\n",
    "    verb = []\n",
    "    words = nltk.Text(words)\n",
    "    words = nltk.pos_tag(words)\n",
    "    for w in words:\n",
    "        if w[1] == 'VB' or w[1]== 'VBD' or w[1]== 'VBG' or w[1]== 'VBN' or w[1]== 'VBP' or w[1]== 'VBZ':\n",
    "            verb.append(w[0])\n",
    "    return verb\n",
    "df['adjecive/adverb'] = df.obj_words.apply(adj_finder)\n",
    "df['nouns'] = df.obj_words.apply(noun_finder)\n",
    "df['verbs'] = df.obj_words.apply(verb_finder)"
   ]
  },
  {
   "cell_type": "code",
   "execution_count": 26,
   "metadata": {
    "scrolled": true
   },
   "outputs": [
    {
     "data": {
      "text/html": [
       "<div>\n",
       "<style scoped>\n",
       "    .dataframe tbody tr th:only-of-type {\n",
       "        vertical-align: middle;\n",
       "    }\n",
       "\n",
       "    .dataframe tbody tr th {\n",
       "        vertical-align: top;\n",
       "    }\n",
       "\n",
       "    .dataframe thead th {\n",
       "        text-align: right;\n",
       "    }\n",
       "</style>\n",
       "<table border=\"1\" class=\"dataframe\">\n",
       "  <thead>\n",
       "    <tr style=\"text-align: right;\">\n",
       "      <th></th>\n",
       "      <th>Review</th>\n",
       "      <th>subject</th>\n",
       "      <th>sentiment</th>\n",
       "      <th>obj_words</th>\n",
       "      <th>all_words</th>\n",
       "      <th>obj_word_count</th>\n",
       "      <th>total_word_count</th>\n",
       "      <th>lem_words</th>\n",
       "      <th>stem_words</th>\n",
       "      <th>word_list</th>\n",
       "      <th>adjecive/adverb</th>\n",
       "      <th>nouns</th>\n",
       "      <th>verbs</th>\n",
       "      <th>string_nouns</th>\n",
       "      <th>string_ad</th>\n",
       "      <th>string_verbs</th>\n",
       "    </tr>\n",
       "  </thead>\n",
       "  <tbody>\n",
       "    <tr>\n",
       "      <th>0</th>\n",
       "      <td>So there is no way for me to plug it in here i...</td>\n",
       "      <td>item</td>\n",
       "      <td>0</td>\n",
       "      <td>[way, plug, us, unless, go, converter]</td>\n",
       "      <td>[so, there, is, no, way, for, me, to, plug, it...</td>\n",
       "      <td>6</td>\n",
       "      <td>21</td>\n",
       "      <td>[way, plug, u, unless, go, converter]</td>\n",
       "      <td>[way, plug, us, unless, go, convert]</td>\n",
       "      <td>{'way': True, 'plug': True, 'us': True, 'unles...</td>\n",
       "      <td>[]</td>\n",
       "      <td>[way, plug, converter]</td>\n",
       "      <td>[go]</td>\n",
       "      <td>way plug converter</td>\n",
       "      <td>a</td>\n",
       "      <td>go</td>\n",
       "    </tr>\n",
       "    <tr>\n",
       "      <th>1</th>\n",
       "      <td>Good case, Excellent value.\\t1</td>\n",
       "      <td>item</td>\n",
       "      <td>1</td>\n",
       "      <td>[good, case, excellent, value]</td>\n",
       "      <td>[good, case, excellent, value]</td>\n",
       "      <td>4</td>\n",
       "      <td>4</td>\n",
       "      <td>[good, case, excellent, value]</td>\n",
       "      <td>[good, case, excel, valu]</td>\n",
       "      <td>{'good': True, 'case': True, 'excellent': True...</td>\n",
       "      <td>[good, excellent]</td>\n",
       "      <td>[case, value]</td>\n",
       "      <td>[]</td>\n",
       "      <td>case value</td>\n",
       "      <td>good excellent</td>\n",
       "      <td>a</td>\n",
       "    </tr>\n",
       "    <tr>\n",
       "      <th>2</th>\n",
       "      <td>Great for the jawbone.\\t1</td>\n",
       "      <td>item</td>\n",
       "      <td>1</td>\n",
       "      <td>[great, jawbone]</td>\n",
       "      <td>[great, for, the, jawbone]</td>\n",
       "      <td>2</td>\n",
       "      <td>4</td>\n",
       "      <td>[great, jawbone]</td>\n",
       "      <td>[great, jawbon]</td>\n",
       "      <td>{'great': True, 'jawbone': True}</td>\n",
       "      <td>[great]</td>\n",
       "      <td>[jawbone]</td>\n",
       "      <td>[]</td>\n",
       "      <td>jawbone</td>\n",
       "      <td>great</td>\n",
       "      <td>a</td>\n",
       "    </tr>\n",
       "    <tr>\n",
       "      <th>3</th>\n",
       "      <td>Tied to charger for conversations lasting more...</td>\n",
       "      <td>item</td>\n",
       "      <td>0</td>\n",
       "      <td>[tied, charger, conversations, lasting, 45, mi...</td>\n",
       "      <td>[tied, to, charger, for, conversations, lastin...</td>\n",
       "      <td>9</td>\n",
       "      <td>13</td>\n",
       "      <td>[tied, charger, conversation, lasting, 45, min...</td>\n",
       "      <td>[tie, charger, convers, last, 45, minut, major...</td>\n",
       "      <td>{'tied': True, 'charger': True, 'conversations...</td>\n",
       "      <td>[major]</td>\n",
       "      <td>[charger, conversations, minutes, problems]</td>\n",
       "      <td>[tied, lasting, !!]</td>\n",
       "      <td>charger conversations minutes problems</td>\n",
       "      <td>major</td>\n",
       "      <td>tied lasting !!</td>\n",
       "    </tr>\n",
       "    <tr>\n",
       "      <th>4</th>\n",
       "      <td>The mic is great.\\t1</td>\n",
       "      <td>item</td>\n",
       "      <td>1</td>\n",
       "      <td>[mic, great]</td>\n",
       "      <td>[the, mic, is, great]</td>\n",
       "      <td>2</td>\n",
       "      <td>4</td>\n",
       "      <td>[mic, great]</td>\n",
       "      <td>[mic, great]</td>\n",
       "      <td>{'mic': True, 'great': True}</td>\n",
       "      <td>[mic, great]</td>\n",
       "      <td>[]</td>\n",
       "      <td>[]</td>\n",
       "      <td>a</td>\n",
       "      <td>mic great</td>\n",
       "      <td>a</td>\n",
       "    </tr>\n",
       "  </tbody>\n",
       "</table>\n",
       "</div>"
      ],
      "text/plain": [
       "                                              Review subject  sentiment  \\\n",
       "0  So there is no way for me to plug it in here i...    item          0   \n",
       "1                     Good case, Excellent value.\\t1    item          1   \n",
       "2                          Great for the jawbone.\\t1    item          1   \n",
       "3  Tied to charger for conversations lasting more...    item          0   \n",
       "4                               The mic is great.\\t1    item          1   \n",
       "\n",
       "                                           obj_words  \\\n",
       "0             [way, plug, us, unless, go, converter]   \n",
       "1                     [good, case, excellent, value]   \n",
       "2                                   [great, jawbone]   \n",
       "3  [tied, charger, conversations, lasting, 45, mi...   \n",
       "4                                       [mic, great]   \n",
       "\n",
       "                                           all_words  obj_word_count  \\\n",
       "0  [so, there, is, no, way, for, me, to, plug, it...               6   \n",
       "1                     [good, case, excellent, value]               4   \n",
       "2                         [great, for, the, jawbone]               2   \n",
       "3  [tied, to, charger, for, conversations, lastin...               9   \n",
       "4                              [the, mic, is, great]               2   \n",
       "\n",
       "   total_word_count                                          lem_words  \\\n",
       "0                21              [way, plug, u, unless, go, converter]   \n",
       "1                 4                     [good, case, excellent, value]   \n",
       "2                 4                                   [great, jawbone]   \n",
       "3                13  [tied, charger, conversation, lasting, 45, min...   \n",
       "4                 4                                       [mic, great]   \n",
       "\n",
       "                                          stem_words  \\\n",
       "0               [way, plug, us, unless, go, convert]   \n",
       "1                          [good, case, excel, valu]   \n",
       "2                                    [great, jawbon]   \n",
       "3  [tie, charger, convers, last, 45, minut, major...   \n",
       "4                                       [mic, great]   \n",
       "\n",
       "                                           word_list    adjecive/adverb  \\\n",
       "0  {'way': True, 'plug': True, 'us': True, 'unles...                 []   \n",
       "1  {'good': True, 'case': True, 'excellent': True...  [good, excellent]   \n",
       "2                   {'great': True, 'jawbone': True}            [great]   \n",
       "3  {'tied': True, 'charger': True, 'conversations...            [major]   \n",
       "4                       {'mic': True, 'great': True}       [mic, great]   \n",
       "\n",
       "                                         nouns                verbs  \\\n",
       "0                       [way, plug, converter]                 [go]   \n",
       "1                                [case, value]                   []   \n",
       "2                                    [jawbone]                   []   \n",
       "3  [charger, conversations, minutes, problems]  [tied, lasting, !!]   \n",
       "4                                           []                   []   \n",
       "\n",
       "                             string_nouns       string_ad     string_verbs  \n",
       "0                      way plug converter               a               go  \n",
       "1                              case value  good excellent                a  \n",
       "2                                 jawbone           great                a  \n",
       "3  charger conversations minutes problems           major  tied lasting !!  \n",
       "4                                       a       mic great                a  "
      ]
     },
     "execution_count": 26,
     "metadata": {},
     "output_type": "execute_result"
    }
   ],
   "source": [
    "def string_words (words):\n",
    "    string =' '.join(words)\n",
    "    if string == '':\n",
    "        string = 'a'\n",
    "    return string\n",
    "\n",
    "df['string_nouns'] = df.nouns.apply(string_words)\n",
    "df['string_ad'] = df['adjecive/adverb'].apply(string_words)\n",
    "df['string_verbs'] = df.verbs.apply(string_words)\n",
    "\n",
    "df.head()"
   ]
  },
  {
   "cell_type": "code",
   "execution_count": 34,
   "metadata": {},
   "outputs": [
    {
     "name": "stdout",
     "output_type": "stream",
     "text": [
      "  (0, 2970)\t1\n",
      "  (0, 3537)\t1\n",
      "  (0, 163)\t1\n",
      "  (0, 1616)\t1\n",
      "  (0, 2580)\t1\n",
      "  (0, 2364)\t2\n",
      "  (0, 312)\t1\n",
      "  (0, 3433)\t1\n",
      "  (0, 1846)\t1\n",
      "  (0, 1369)\t1\n",
      "  (0, 468)\t1\n",
      "  (0, 3296)\t1\n",
      "  (0, 2003)\t1\n",
      "  (0, 990)\t1\n",
      "  (1, 1287)\t1\n",
      "  (1, 2299)\t1\n",
      "  (1, 3699)\t1\n",
      "  (1, 3418)\t1\n",
      "  (1, 1030)\t1\n",
      "  (1, 2388)\t1\n",
      "  (1, 3394)\t1\n",
      "  (1, 900)\t1\n",
      "  (1, 1655)\t1\n",
      "  (1, 3368)\t1\n",
      "  (2, 1081)\t1\n",
      "  :\t:\n",
      "  (1960, 3385)\t1\n",
      "  (1960, 1480)\t1\n",
      "  (1960, 3731)\t1\n",
      "  (1960, 1643)\t1\n",
      "  (1960, 2299)\t3\n",
      "  (1960, 163)\t2\n",
      "  (1961, 2427)\t1\n",
      "  (1961, 937)\t1\n",
      "  (1961, 2934)\t1\n",
      "  (1961, 1465)\t1\n",
      "  (1961, 1804)\t1\n",
      "  (1961, 3433)\t1\n",
      "  (1962, 238)\t1\n",
      "  (1962, 2859)\t1\n",
      "  (1962, 3521)\t1\n",
      "  (1962, 1158)\t1\n",
      "  (1962, 3652)\t1\n",
      "  (1962, 2856)\t1\n",
      "  (1962, 1895)\t1\n",
      "  (1962, 1135)\t1\n",
      "  (1962, 3382)\t1\n",
      "  (1962, 2209)\t1\n",
      "  (1962, 3370)\t1\n",
      "  (1962, 2317)\t1\n",
      "  (1962, 163)\t1\n"
     ]
    },
    {
     "data": {
      "text/plain": [
       "0.81611570247933884"
      ]
     },
     "execution_count": 34,
     "metadata": {},
     "output_type": "execute_result"
    }
   ],
   "source": [
    "X_train, X_test, y_train, y_test = train_test_split(df['Review'],df.sentiment,test_size = .33)\n",
    "\n",
    "count_vect = CountVectorizer()\n",
    "x_train_counts = count_vect.fit_transform(X_train)/\n",
    "tfidf_transformer = TfidfTransformer()\n",
    "X_train_tfidf = tfidf_transformer.fit_transform(x_train_counts)\n",
    "\n",
    "x_test_counts = count_vect.transform(X_test)\n",
    "x_test_tfidf = tfidf_transformer.transform(x_test_counts)\n",
    "\n",
    "text_clf = Pipeline([('vect', CountVectorizer()),\n",
    "                    ('tfidf',TfidfTransformer()),\n",
    "                    ('clf', MultinomialNB()),])\n",
    "clf = MultinomialNB().fit(X_train_tfidf,y_train)\n",
    "clf.score(x_test_tfidf,y_test)\n",
    "# cross_val_score(text_clf,X_train,y_train,cv=cv)"
   ]
  }
 ],
 "metadata": {
  "kernelspec": {
   "display_name": "Python 3",
   "language": "python",
   "name": "python3"
  },
  "language_info": {
   "codemirror_mode": {
    "name": "ipython",
    "version": 3
   },
   "file_extension": ".py",
   "mimetype": "text/x-python",
   "name": "python",
   "nbconvert_exporter": "python",
   "pygments_lexer": "ipython3",
   "version": "3.6.4"
  }
 },
 "nbformat": 4,
 "nbformat_minor": 2
}
