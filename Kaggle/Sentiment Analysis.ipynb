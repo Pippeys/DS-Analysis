{
 "cells": [
  {
   "cell_type": "markdown",
   "metadata": {},
   "source": [
    "# Kaggle \n",
    "# Sentiment Analysis\n",
    "\n",
    "### I will first look into a basic prediction model for review type (good or bad)\n",
    "### Then I will look into developing a ***Subject Finder***\n",
    "    - This will hopefully give a classification subject for each review (movie,restaurant,item)"
   ]
  },
  {
   "cell_type": "code",
   "execution_count": 73,
   "metadata": {},
   "outputs": [],
   "source": [
    "import string\n",
    "import numpy as np\n",
    "import pandas as pd\n",
    "from gensim import corpora\n",
    "from nltk.corpus import stopwords,genesis\n",
    "from nltk import wordpunct_tokenize,FreqDist\n",
    "from sklearn.model_selection import train_test_split\n",
    "from nltk.collocations import TrigramAssocMeasures,TrigramCollocationFinder"
   ]
  },
  {
   "cell_type": "code",
   "execution_count": 33,
   "metadata": {},
   "outputs": [
    {
     "name": "stdout",
     "output_type": "stream",
     "text": [
      "1000\n"
     ]
    },
    {
     "data": {
      "text/html": [
       "<div>\n",
       "<style scoped>\n",
       "    .dataframe tbody tr th:only-of-type {\n",
       "        vertical-align: middle;\n",
       "    }\n",
       "\n",
       "    .dataframe tbody tr th {\n",
       "        vertical-align: top;\n",
       "    }\n",
       "\n",
       "    .dataframe thead th {\n",
       "        text-align: right;\n",
       "    }\n",
       "</style>\n",
       "<table border=\"1\" class=\"dataframe\">\n",
       "  <thead>\n",
       "    <tr style=\"text-align: right;\">\n",
       "      <th></th>\n",
       "      <th>Review</th>\n",
       "      <th>subject</th>\n",
       "    </tr>\n",
       "  </thead>\n",
       "  <tbody>\n",
       "    <tr>\n",
       "      <th>0</th>\n",
       "      <td>So there is no way for me to plug it in here i...</td>\n",
       "      <td>item</td>\n",
       "    </tr>\n",
       "    <tr>\n",
       "      <th>1</th>\n",
       "      <td>Good case, Excellent value.\\t1</td>\n",
       "      <td>item</td>\n",
       "    </tr>\n",
       "    <tr>\n",
       "      <th>2</th>\n",
       "      <td>Great for the jawbone.\\t1</td>\n",
       "      <td>item</td>\n",
       "    </tr>\n",
       "    <tr>\n",
       "      <th>3</th>\n",
       "      <td>Tied to charger for conversations lasting more...</td>\n",
       "      <td>item</td>\n",
       "    </tr>\n",
       "    <tr>\n",
       "      <th>4</th>\n",
       "      <td>The mic is great.\\t1</td>\n",
       "      <td>item</td>\n",
       "    </tr>\n",
       "  </tbody>\n",
       "</table>\n",
       "</div>"
      ],
      "text/plain": [
       "                                              Review subject\n",
       "0  So there is no way for me to plug it in here i...    item\n",
       "1                     Good case, Excellent value.\\t1    item\n",
       "2                          Great for the jawbone.\\t1    item\n",
       "3  Tied to charger for conversations lasting more...    item\n",
       "4                               The mic is great.\\t1    item"
      ]
     },
     "execution_count": 33,
     "metadata": {},
     "output_type": "execute_result"
    }
   ],
   "source": [
    "amazon = pd.read_fwf('amazon_cells_labelled.txt',header=None)\n",
    "amazon.columns = ['Review']\n",
    "print(len(amazon))\n",
    "amazon ['subject'] = 'item'\n",
    "amazon.head()"
   ]
  },
  {
   "cell_type": "code",
   "execution_count": 34,
   "metadata": {},
   "outputs": [
    {
     "name": "stdout",
     "output_type": "stream",
     "text": [
      "1000\n"
     ]
    },
    {
     "data": {
      "text/html": [
       "<div>\n",
       "<style scoped>\n",
       "    .dataframe tbody tr th:only-of-type {\n",
       "        vertical-align: middle;\n",
       "    }\n",
       "\n",
       "    .dataframe tbody tr th {\n",
       "        vertical-align: top;\n",
       "    }\n",
       "\n",
       "    .dataframe thead th {\n",
       "        text-align: right;\n",
       "    }\n",
       "</style>\n",
       "<table border=\"1\" class=\"dataframe\">\n",
       "  <thead>\n",
       "    <tr style=\"text-align: right;\">\n",
       "      <th></th>\n",
       "      <th>Review</th>\n",
       "      <th>subject</th>\n",
       "    </tr>\n",
       "  </thead>\n",
       "  <tbody>\n",
       "    <tr>\n",
       "      <th>0</th>\n",
       "      <td>A very, very, very slow-moving, aimless movie ...</td>\n",
       "      <td>movie</td>\n",
       "    </tr>\n",
       "    <tr>\n",
       "      <th>1</th>\n",
       "      <td>Not sure who was more lost - the flat characte...</td>\n",
       "      <td>movie</td>\n",
       "    </tr>\n",
       "    <tr>\n",
       "      <th>2</th>\n",
       "      <td>Attempting artiness with black &amp; white and cle...</td>\n",
       "      <td>movie</td>\n",
       "    </tr>\n",
       "    <tr>\n",
       "      <th>3</th>\n",
       "      <td>Very little music or anything to speak of.  \\t0</td>\n",
       "      <td>movie</td>\n",
       "    </tr>\n",
       "    <tr>\n",
       "      <th>4</th>\n",
       "      <td>The best scene in the movie was when Gerardo i...</td>\n",
       "      <td>movie</td>\n",
       "    </tr>\n",
       "  </tbody>\n",
       "</table>\n",
       "</div>"
      ],
      "text/plain": [
       "                                              Review subject\n",
       "0  A very, very, very slow-moving, aimless movie ...   movie\n",
       "1  Not sure who was more lost - the flat characte...   movie\n",
       "2  Attempting artiness with black & white and cle...   movie\n",
       "3    Very little music or anything to speak of.  \\t0   movie\n",
       "4  The best scene in the movie was when Gerardo i...   movie"
      ]
     },
     "execution_count": 34,
     "metadata": {},
     "output_type": "execute_result"
    }
   ],
   "source": [
    "imdb = pd.read_fwf('imdb_labelled.txt',header=None)\n",
    "imdb.columns = ['Review','0','1','2','3']\n",
    "imdb = imdb.drop(['0','1','2','3'],axis=1)\n",
    "imdb ['subject'] = 'movie'\n",
    "print(len(imdb))\n",
    "imdb.head()"
   ]
  },
  {
   "cell_type": "code",
   "execution_count": 35,
   "metadata": {},
   "outputs": [
    {
     "name": "stdout",
     "output_type": "stream",
     "text": [
      "1000\n"
     ]
    },
    {
     "data": {
      "text/html": [
       "<div>\n",
       "<style scoped>\n",
       "    .dataframe tbody tr th:only-of-type {\n",
       "        vertical-align: middle;\n",
       "    }\n",
       "\n",
       "    .dataframe tbody tr th {\n",
       "        vertical-align: top;\n",
       "    }\n",
       "\n",
       "    .dataframe thead th {\n",
       "        text-align: right;\n",
       "    }\n",
       "</style>\n",
       "<table border=\"1\" class=\"dataframe\">\n",
       "  <thead>\n",
       "    <tr style=\"text-align: right;\">\n",
       "      <th></th>\n",
       "      <th>Review</th>\n",
       "      <th>subject</th>\n",
       "    </tr>\n",
       "  </thead>\n",
       "  <tbody>\n",
       "    <tr>\n",
       "      <th>0</th>\n",
       "      <td>Wow... Loved this place.\\t1</td>\n",
       "      <td>restaurant</td>\n",
       "    </tr>\n",
       "    <tr>\n",
       "      <th>1</th>\n",
       "      <td>Crust is not good.\\t0</td>\n",
       "      <td>restaurant</td>\n",
       "    </tr>\n",
       "    <tr>\n",
       "      <th>2</th>\n",
       "      <td>Not tasty and the texture was just nasty.\\t0</td>\n",
       "      <td>restaurant</td>\n",
       "    </tr>\n",
       "    <tr>\n",
       "      <th>3</th>\n",
       "      <td>Stopped by during the late May bank holiday of...</td>\n",
       "      <td>restaurant</td>\n",
       "    </tr>\n",
       "    <tr>\n",
       "      <th>4</th>\n",
       "      <td>The selection on the menu was great and so wer...</td>\n",
       "      <td>restaurant</td>\n",
       "    </tr>\n",
       "  </tbody>\n",
       "</table>\n",
       "</div>"
      ],
      "text/plain": [
       "                                              Review     subject\n",
       "0                        Wow... Loved this place.\\t1  restaurant\n",
       "1                              Crust is not good.\\t0  restaurant\n",
       "2       Not tasty and the texture was just nasty.\\t0  restaurant\n",
       "3  Stopped by during the late May bank holiday of...  restaurant\n",
       "4  The selection on the menu was great and so wer...  restaurant"
      ]
     },
     "execution_count": 35,
     "metadata": {},
     "output_type": "execute_result"
    }
   ],
   "source": [
    "yelp = pd.read_fwf('yelp_labelled.txt',header=None)\n",
    "yelp.columns = ['Review','1','2']\n",
    "yelp = yelp.drop(['1','2'],axis=1)\n",
    "yelp ['subject'] = 'restaurant'\n",
    "print(len(yelp))\n",
    "yelp.head()"
   ]
  },
  {
   "cell_type": "code",
   "execution_count": 36,
   "metadata": {},
   "outputs": [
    {
     "data": {
      "text/plain": [
       "2999"
      ]
     },
     "execution_count": 36,
     "metadata": {},
     "output_type": "execute_result"
    }
   ],
   "source": [
    "frames = [amazon, yelp, imdb]\n",
    "df = pd.concat(frames,ignore_index=True)\n",
    "df = df[:-1]\n",
    "len(df)"
   ]
  },
  {
   "cell_type": "code",
   "execution_count": 37,
   "metadata": {},
   "outputs": [
    {
     "data": {
      "text/plain": [
       "2998    Exceptionally bad!  \\t0\n",
       "Name: Review, dtype: object"
      ]
     },
     "execution_count": 37,
     "metadata": {},
     "output_type": "execute_result"
    }
   ],
   "source": [
    "df.Review[-1:]"
   ]
  },
  {
   "cell_type": "code",
   "execution_count": 43,
   "metadata": {},
   "outputs": [],
   "source": [
    "def create_word_features(review):\n",
    "    lower_review = review.lower()\n",
    "    words = wordpunct_tokenize(lower_review)\n",
    "    useful_words = [w for w in words \n",
    "                    if w not in string.punctuation \n",
    "                    and w not in stopwords.words('english')]\n",
    "    useful_words = useful_words[:-1]\n",
    "    return useful_words\n",
    "\n",
    "def create_all_words(review):\n",
    "    lower_review = review.lower()\n",
    "    words = wordpunct_tokenize(lower_review)\n",
    "    all_words = [w for w in words \n",
    "                    if w not in string.punctuation]\n",
    "    all_words = all_words[:-1]\n",
    "    return all_words\n",
    "\n",
    "def move_sentiment(number):\n",
    "    words = wordpunct_tokenize(number)\n",
    "    return words[-1]\n",
    "df ['sentiment'] = df.Review.apply(move_sentiment)\n",
    "df ['obj_words'] = df.Review.apply(create_word_features)\n",
    "df ['all_words'] = df.Review.apply(create_all_words)"
   ]
  },
  {
   "cell_type": "code",
   "execution_count": 44,
   "metadata": {},
   "outputs": [],
   "source": [
    "df = df.loc[df.sentiment.isin(['1','0'])]\n",
    "df.sentiment = df.sentiment.astype(int)"
   ]
  },
  {
   "cell_type": "markdown",
   "metadata": {},
   "source": [
    "##### Need to find correlation between group of words and sentiment"
   ]
  },
  {
   "cell_type": "code",
   "execution_count": 98,
   "metadata": {
    "scrolled": false
   },
   "outputs": [
    {
     "data": {
      "text/html": [
       "<div>\n",
       "<style scoped>\n",
       "    .dataframe tbody tr th:only-of-type {\n",
       "        vertical-align: middle;\n",
       "    }\n",
       "\n",
       "    .dataframe tbody tr th {\n",
       "        vertical-align: top;\n",
       "    }\n",
       "\n",
       "    .dataframe thead th {\n",
       "        text-align: right;\n",
       "    }\n",
       "</style>\n",
       "<table border=\"1\" class=\"dataframe\">\n",
       "  <thead>\n",
       "    <tr style=\"text-align: right;\">\n",
       "      <th></th>\n",
       "      <th>Review</th>\n",
       "      <th>subject</th>\n",
       "      <th>sentiment</th>\n",
       "      <th>obj_words</th>\n",
       "      <th>all_words</th>\n",
       "      <th>obj_word_count</th>\n",
       "      <th>total_word_count</th>\n",
       "    </tr>\n",
       "  </thead>\n",
       "  <tbody>\n",
       "    <tr>\n",
       "      <th>0</th>\n",
       "      <td>So there is no way for me to plug it in here i...</td>\n",
       "      <td>item</td>\n",
       "      <td>0</td>\n",
       "      <td>[way, plug, us, unless, go, converter]</td>\n",
       "      <td>[so, there, is, no, way, for, me, to, plug, it...</td>\n",
       "      <td>6</td>\n",
       "      <td>21</td>\n",
       "    </tr>\n",
       "    <tr>\n",
       "      <th>1</th>\n",
       "      <td>Good case, Excellent value.\\t1</td>\n",
       "      <td>item</td>\n",
       "      <td>1</td>\n",
       "      <td>[good, case, excellent, value]</td>\n",
       "      <td>[good, case, excellent, value]</td>\n",
       "      <td>4</td>\n",
       "      <td>4</td>\n",
       "    </tr>\n",
       "    <tr>\n",
       "      <th>2</th>\n",
       "      <td>Great for the jawbone.\\t1</td>\n",
       "      <td>item</td>\n",
       "      <td>1</td>\n",
       "      <td>[great, jawbone]</td>\n",
       "      <td>[great, for, the, jawbone]</td>\n",
       "      <td>2</td>\n",
       "      <td>4</td>\n",
       "    </tr>\n",
       "    <tr>\n",
       "      <th>3</th>\n",
       "      <td>Tied to charger for conversations lasting more...</td>\n",
       "      <td>item</td>\n",
       "      <td>0</td>\n",
       "      <td>[tied, charger, conversations, lasting, 45, mi...</td>\n",
       "      <td>[tied, to, charger, for, conversations, lastin...</td>\n",
       "      <td>9</td>\n",
       "      <td>13</td>\n",
       "    </tr>\n",
       "    <tr>\n",
       "      <th>4</th>\n",
       "      <td>The mic is great.\\t1</td>\n",
       "      <td>item</td>\n",
       "      <td>1</td>\n",
       "      <td>[mic, great]</td>\n",
       "      <td>[the, mic, is, great]</td>\n",
       "      <td>2</td>\n",
       "      <td>4</td>\n",
       "    </tr>\n",
       "  </tbody>\n",
       "</table>\n",
       "</div>"
      ],
      "text/plain": [
       "                                              Review subject  sentiment  \\\n",
       "0  So there is no way for me to plug it in here i...    item          0   \n",
       "1                     Good case, Excellent value.\\t1    item          1   \n",
       "2                          Great for the jawbone.\\t1    item          1   \n",
       "3  Tied to charger for conversations lasting more...    item          0   \n",
       "4                               The mic is great.\\t1    item          1   \n",
       "\n",
       "                                           obj_words  \\\n",
       "0             [way, plug, us, unless, go, converter]   \n",
       "1                     [good, case, excellent, value]   \n",
       "2                                   [great, jawbone]   \n",
       "3  [tied, charger, conversations, lasting, 45, mi...   \n",
       "4                                       [mic, great]   \n",
       "\n",
       "                                           all_words  obj_word_count  \\\n",
       "0  [so, there, is, no, way, for, me, to, plug, it...               6   \n",
       "1                     [good, case, excellent, value]               4   \n",
       "2                         [great, for, the, jawbone]               2   \n",
       "3  [tied, to, charger, for, conversations, lastin...               9   \n",
       "4                              [the, mic, is, great]               2   \n",
       "\n",
       "   total_word_count  \n",
       "0                21  \n",
       "1                 4  \n",
       "2                 4  \n",
       "3                13  \n",
       "4                 4  "
      ]
     },
     "execution_count": 98,
     "metadata": {},
     "output_type": "execute_result"
    }
   ],
   "source": [
    "df ['obj_word_count'] = df.obj_words.apply(lambda x: len(x))\n",
    "df ['total_word_count'] = df.all_words.apply(lambda x: len(x))\n",
    "df.head()"
   ]
  },
  {
   "cell_type": "code",
   "execution_count": 105,
   "metadata": {
    "scrolled": true
   },
   "outputs": [],
   "source": [
    "import nltk, string, numpy\n",
    "\n",
    "stemmer = nltk.stem.porter.PorterStemmer()\n",
    "def StemTokens(tokens):\n",
    "    return [stemmer.stem(token) for token in tokens]\n",
    "lemmer = nltk.stem.WordNetLemmatizer()\n",
    "def LemTokens(tokens):\n",
    "    return [lemmer.lemmatize(token) for token in tokens]\n",
    "\n",
    "df['lem_words'] = df.obj_words.apply(LemTokens)\n",
    "df['stem_words'] = df.obj_words.apply(StemTokens)"
   ]
  },
  {
   "cell_type": "code",
   "execution_count": 106,
   "metadata": {
    "scrolled": true
   },
   "outputs": [
    {
     "data": {
      "text/html": [
       "<div>\n",
       "<style scoped>\n",
       "    .dataframe tbody tr th:only-of-type {\n",
       "        vertical-align: middle;\n",
       "    }\n",
       "\n",
       "    .dataframe tbody tr th {\n",
       "        vertical-align: top;\n",
       "    }\n",
       "\n",
       "    .dataframe thead th {\n",
       "        text-align: right;\n",
       "    }\n",
       "</style>\n",
       "<table border=\"1\" class=\"dataframe\">\n",
       "  <thead>\n",
       "    <tr style=\"text-align: right;\">\n",
       "      <th></th>\n",
       "      <th>Review</th>\n",
       "      <th>subject</th>\n",
       "      <th>sentiment</th>\n",
       "      <th>obj_words</th>\n",
       "      <th>all_words</th>\n",
       "      <th>obj_word_count</th>\n",
       "      <th>total_word_count</th>\n",
       "      <th>lem_words</th>\n",
       "      <th>stem_words</th>\n",
       "    </tr>\n",
       "  </thead>\n",
       "  <tbody>\n",
       "    <tr>\n",
       "      <th>0</th>\n",
       "      <td>So there is no way for me to plug it in here i...</td>\n",
       "      <td>item</td>\n",
       "      <td>0</td>\n",
       "      <td>[way, plug, us, unless, go, converter]</td>\n",
       "      <td>[so, there, is, no, way, for, me, to, plug, it...</td>\n",
       "      <td>6</td>\n",
       "      <td>21</td>\n",
       "      <td>[way, plug, u, unless, go, converter]</td>\n",
       "      <td>[way, plug, us, unless, go, convert]</td>\n",
       "    </tr>\n",
       "    <tr>\n",
       "      <th>1</th>\n",
       "      <td>Good case, Excellent value.\\t1</td>\n",
       "      <td>item</td>\n",
       "      <td>1</td>\n",
       "      <td>[good, case, excellent, value]</td>\n",
       "      <td>[good, case, excellent, value]</td>\n",
       "      <td>4</td>\n",
       "      <td>4</td>\n",
       "      <td>[good, case, excellent, value]</td>\n",
       "      <td>[good, case, excel, valu]</td>\n",
       "    </tr>\n",
       "    <tr>\n",
       "      <th>2</th>\n",
       "      <td>Great for the jawbone.\\t1</td>\n",
       "      <td>item</td>\n",
       "      <td>1</td>\n",
       "      <td>[great, jawbone]</td>\n",
       "      <td>[great, for, the, jawbone]</td>\n",
       "      <td>2</td>\n",
       "      <td>4</td>\n",
       "      <td>[great, jawbone]</td>\n",
       "      <td>[great, jawbon]</td>\n",
       "    </tr>\n",
       "    <tr>\n",
       "      <th>3</th>\n",
       "      <td>Tied to charger for conversations lasting more...</td>\n",
       "      <td>item</td>\n",
       "      <td>0</td>\n",
       "      <td>[tied, charger, conversations, lasting, 45, mi...</td>\n",
       "      <td>[tied, to, charger, for, conversations, lastin...</td>\n",
       "      <td>9</td>\n",
       "      <td>13</td>\n",
       "      <td>[tied, charger, conversation, lasting, 45, min...</td>\n",
       "      <td>[tie, charger, convers, last, 45, minut, major...</td>\n",
       "    </tr>\n",
       "    <tr>\n",
       "      <th>4</th>\n",
       "      <td>The mic is great.\\t1</td>\n",
       "      <td>item</td>\n",
       "      <td>1</td>\n",
       "      <td>[mic, great]</td>\n",
       "      <td>[the, mic, is, great]</td>\n",
       "      <td>2</td>\n",
       "      <td>4</td>\n",
       "      <td>[mic, great]</td>\n",
       "      <td>[mic, great]</td>\n",
       "    </tr>\n",
       "  </tbody>\n",
       "</table>\n",
       "</div>"
      ],
      "text/plain": [
       "                                              Review subject  sentiment  \\\n",
       "0  So there is no way for me to plug it in here i...    item          0   \n",
       "1                     Good case, Excellent value.\\t1    item          1   \n",
       "2                          Great for the jawbone.\\t1    item          1   \n",
       "3  Tied to charger for conversations lasting more...    item          0   \n",
       "4                               The mic is great.\\t1    item          1   \n",
       "\n",
       "                                           obj_words  \\\n",
       "0             [way, plug, us, unless, go, converter]   \n",
       "1                     [good, case, excellent, value]   \n",
       "2                                   [great, jawbone]   \n",
       "3  [tied, charger, conversations, lasting, 45, mi...   \n",
       "4                                       [mic, great]   \n",
       "\n",
       "                                           all_words  obj_word_count  \\\n",
       "0  [so, there, is, no, way, for, me, to, plug, it...               6   \n",
       "1                     [good, case, excellent, value]               4   \n",
       "2                         [great, for, the, jawbone]               2   \n",
       "3  [tied, to, charger, for, conversations, lastin...               9   \n",
       "4                              [the, mic, is, great]               2   \n",
       "\n",
       "   total_word_count                                          lem_words  \\\n",
       "0                21              [way, plug, u, unless, go, converter]   \n",
       "1                 4                     [good, case, excellent, value]   \n",
       "2                 4                                   [great, jawbone]   \n",
       "3                13  [tied, charger, conversation, lasting, 45, min...   \n",
       "4                 4                                       [mic, great]   \n",
       "\n",
       "                                          stem_words  \n",
       "0               [way, plug, us, unless, go, convert]  \n",
       "1                          [good, case, excel, valu]  \n",
       "2                                    [great, jawbon]  \n",
       "3  [tie, charger, convers, last, 45, minut, major...  \n",
       "4                                       [mic, great]  "
      ]
     },
     "execution_count": 106,
     "metadata": {},
     "output_type": "execute_result"
    }
   ],
   "source": [
    "df.head()"
   ]
  },
  {
   "cell_type": "code",
   "execution_count": 107,
   "metadata": {
    "collapsed": true
   },
   "outputs": [],
   "source": [
    "good_reviews = df.loc[df.sentiment == 1]\n",
    "bad_reviews = df.loc[df.sentiment == 0]"
   ]
  },
  {
   "cell_type": "code",
   "execution_count": 113,
   "metadata": {},
   "outputs": [
    {
     "data": {
      "text/plain": [
       "[('great', 197),\n",
       " ('good', 172),\n",
       " ('film', 114),\n",
       " ('phone', 93),\n",
       " ('movi', 93),\n",
       " ('work', 83),\n",
       " ('love', 82),\n",
       " ('one', 71),\n",
       " ('like', 68),\n",
       " ('well', 61)]"
      ]
     },
     "execution_count": 113,
     "metadata": {},
     "output_type": "execute_result"
    }
   ],
   "source": [
    "good_word_bank = []\n",
    "for row in good_reviews.stem_words:\n",
    "    for word in row:\n",
    "        good_word_bank.append(word)\n",
    "\n",
    "bad_word_bank = []\n",
    "for row in bad_reviews.stem_words:\n",
    "    for word in row:\n",
    "        bad_word_bank.append(word)\n",
    "good_freq = FreqDist(good_word_bank)\n",
    "bad_freq = FreqDist(bad_word_bank)\n",
    "good_freq.most_common(10)"
   ]
  },
  {
   "cell_type": "code",
   "execution_count": 114,
   "metadata": {},
   "outputs": [
    {
     "data": {
      "text/plain": [
       "0               [way, plug, us, unless, go, converter]\n",
       "1                       [good, case, excellent, value]\n",
       "2                                     [great, jawbone]\n",
       "3    [tied, charger, conversations, lasting, 45, mi...\n",
       "4                                         [mic, great]\n",
       "Name: obj_words, dtype: object"
      ]
     },
     "execution_count": 114,
     "metadata": {},
     "output_type": "execute_result"
    }
   ],
   "source": [
    "df.obj_words.head()"
   ]
  },
  {
   "cell_type": "code",
   "execution_count": 117,
   "metadata": {
    "scrolled": false
   },
   "outputs": [
    {
     "data": {
      "text/html": [
       "<div>\n",
       "<style scoped>\n",
       "    .dataframe tbody tr th:only-of-type {\n",
       "        vertical-align: middle;\n",
       "    }\n",
       "\n",
       "    .dataframe tbody tr th {\n",
       "        vertical-align: top;\n",
       "    }\n",
       "\n",
       "    .dataframe thead th {\n",
       "        text-align: right;\n",
       "    }\n",
       "</style>\n",
       "<table border=\"1\" class=\"dataframe\">\n",
       "  <thead>\n",
       "    <tr style=\"text-align: right;\">\n",
       "      <th></th>\n",
       "      <th>Review</th>\n",
       "      <th>subject</th>\n",
       "      <th>sentiment</th>\n",
       "      <th>obj_words</th>\n",
       "      <th>all_words</th>\n",
       "      <th>obj_word_count</th>\n",
       "      <th>total_word_count</th>\n",
       "      <th>lem_words</th>\n",
       "      <th>stem_words</th>\n",
       "      <th>word_list</th>\n",
       "    </tr>\n",
       "  </thead>\n",
       "  <tbody>\n",
       "    <tr>\n",
       "      <th>0</th>\n",
       "      <td>So there is no way for me to plug it in here i...</td>\n",
       "      <td>item</td>\n",
       "      <td>0</td>\n",
       "      <td>[way, plug, us, unless, go, converter]</td>\n",
       "      <td>[so, there, is, no, way, for, me, to, plug, it...</td>\n",
       "      <td>6</td>\n",
       "      <td>21</td>\n",
       "      <td>[way, plug, u, unless, go, converter]</td>\n",
       "      <td>[way, plug, us, unless, go, convert]</td>\n",
       "      <td>{'way': True, 'plug': True, 'us': True, 'unles...</td>\n",
       "    </tr>\n",
       "    <tr>\n",
       "      <th>1</th>\n",
       "      <td>Good case, Excellent value.\\t1</td>\n",
       "      <td>item</td>\n",
       "      <td>1</td>\n",
       "      <td>[good, case, excellent, value]</td>\n",
       "      <td>[good, case, excellent, value]</td>\n",
       "      <td>4</td>\n",
       "      <td>4</td>\n",
       "      <td>[good, case, excellent, value]</td>\n",
       "      <td>[good, case, excel, valu]</td>\n",
       "      <td>{'good': True, 'case': True, 'excellent': True...</td>\n",
       "    </tr>\n",
       "    <tr>\n",
       "      <th>2</th>\n",
       "      <td>Great for the jawbone.\\t1</td>\n",
       "      <td>item</td>\n",
       "      <td>1</td>\n",
       "      <td>[great, jawbone]</td>\n",
       "      <td>[great, for, the, jawbone]</td>\n",
       "      <td>2</td>\n",
       "      <td>4</td>\n",
       "      <td>[great, jawbone]</td>\n",
       "      <td>[great, jawbon]</td>\n",
       "      <td>{'great': True, 'jawbone': True}</td>\n",
       "    </tr>\n",
       "    <tr>\n",
       "      <th>3</th>\n",
       "      <td>Tied to charger for conversations lasting more...</td>\n",
       "      <td>item</td>\n",
       "      <td>0</td>\n",
       "      <td>[tied, charger, conversations, lasting, 45, mi...</td>\n",
       "      <td>[tied, to, charger, for, conversations, lastin...</td>\n",
       "      <td>9</td>\n",
       "      <td>13</td>\n",
       "      <td>[tied, charger, conversation, lasting, 45, min...</td>\n",
       "      <td>[tie, charger, convers, last, 45, minut, major...</td>\n",
       "      <td>{'tied': True, 'charger': True, 'conversations...</td>\n",
       "    </tr>\n",
       "    <tr>\n",
       "      <th>4</th>\n",
       "      <td>The mic is great.\\t1</td>\n",
       "      <td>item</td>\n",
       "      <td>1</td>\n",
       "      <td>[mic, great]</td>\n",
       "      <td>[the, mic, is, great]</td>\n",
       "      <td>2</td>\n",
       "      <td>4</td>\n",
       "      <td>[mic, great]</td>\n",
       "      <td>[mic, great]</td>\n",
       "      <td>{'mic': True, 'great': True}</td>\n",
       "    </tr>\n",
       "  </tbody>\n",
       "</table>\n",
       "</div>"
      ],
      "text/plain": [
       "                                              Review subject  sentiment  \\\n",
       "0  So there is no way for me to plug it in here i...    item          0   \n",
       "1                     Good case, Excellent value.\\t1    item          1   \n",
       "2                          Great for the jawbone.\\t1    item          1   \n",
       "3  Tied to charger for conversations lasting more...    item          0   \n",
       "4                               The mic is great.\\t1    item          1   \n",
       "\n",
       "                                           obj_words  \\\n",
       "0             [way, plug, us, unless, go, converter]   \n",
       "1                     [good, case, excellent, value]   \n",
       "2                                   [great, jawbone]   \n",
       "3  [tied, charger, conversations, lasting, 45, mi...   \n",
       "4                                       [mic, great]   \n",
       "\n",
       "                                           all_words  obj_word_count  \\\n",
       "0  [so, there, is, no, way, for, me, to, plug, it...               6   \n",
       "1                     [good, case, excellent, value]               4   \n",
       "2                         [great, for, the, jawbone]               2   \n",
       "3  [tied, to, charger, for, conversations, lastin...               9   \n",
       "4                              [the, mic, is, great]               2   \n",
       "\n",
       "   total_word_count                                          lem_words  \\\n",
       "0                21              [way, plug, u, unless, go, converter]   \n",
       "1                 4                     [good, case, excellent, value]   \n",
       "2                 4                                   [great, jawbone]   \n",
       "3                13  [tied, charger, conversation, lasting, 45, min...   \n",
       "4                 4                                       [mic, great]   \n",
       "\n",
       "                                          stem_words  \\\n",
       "0               [way, plug, us, unless, go, convert]   \n",
       "1                          [good, case, excel, valu]   \n",
       "2                                    [great, jawbon]   \n",
       "3  [tie, charger, convers, last, 45, minut, major...   \n",
       "4                                       [mic, great]   \n",
       "\n",
       "                                           word_list  \n",
       "0  {'way': True, 'plug': True, 'us': True, 'unles...  \n",
       "1  {'good': True, 'case': True, 'excellent': True...  \n",
       "2                   {'great': True, 'jawbone': True}  \n",
       "3  {'tied': True, 'charger': True, 'conversations...  \n",
       "4                       {'mic': True, 'great': True}  "
      ]
     },
     "execution_count": 117,
     "metadata": {},
     "output_type": "execute_result"
    }
   ],
   "source": [
    "def create_word_features (words):\n",
    "    my_dict = dict([(word, True) for word in words])\n",
    "    return my_dict\n",
    "\n",
    "df['word_list'] = df.obj_words.apply(create_word_features)\n",
    "\n",
    "df.head()"
   ]
  },
  {
   "cell_type": "code",
   "execution_count": 176,
   "metadata": {},
   "outputs": [],
   "source": [
    "from sklearn.model_selection import train_test_split\n",
    "X_train, X_test, y_train, y_test = train_test_split(df.Review,df.sentiment,test_size = .33)"
   ]
  },
  {
   "cell_type": "code",
   "execution_count": 183,
   "metadata": {},
   "outputs": [],
   "source": [
    "from sklearn.feature_extraction.text import CountVectorizer,TfidfTransformer\n",
    "count_vect = CountVectorizer()\n",
    "x_train_counts = count_vect.fit_transform(X_train)\n",
    "tfidf_transformer = TfidfTransformer()\n",
    "X_train_tfidf = tfidf_transformer.fit_transform(x_train_counts)\n",
    "\n",
    "x_test_counts = count_vect.transform(X_test)\n",
    "x_test_tfidf = tfidf_transformer.transform(x_test_counts)"
   ]
  },
  {
   "cell_type": "code",
   "execution_count": 186,
   "metadata": {},
   "outputs": [
    {
     "data": {
      "text/plain": [
       "0.80888429752066116"
      ]
     },
     "execution_count": 186,
     "metadata": {},
     "output_type": "execute_result"
    }
   ],
   "source": [
    "from sklearn.naive_bayes import MultinomialNB\n",
    "clf = MultinomialNB().fit(X_train_tfidf,y_train)\n",
    "clf.score(x_test_tfidf,y_test)"
   ]
  },
  {
   "cell_type": "markdown",
   "metadata": {},
   "source": [
    "### Pipelines"
   ]
  },
  {
   "cell_type": "code",
   "execution_count": 224,
   "metadata": {
    "scrolled": true
   },
   "outputs": [
    {
     "data": {
      "text/plain": [
       "array([ 0.80475382,  0.79626486,  0.77079796])"
      ]
     },
     "execution_count": 224,
     "metadata": {},
     "output_type": "execute_result"
    }
   ],
   "source": [
    "from sklearn.pipeline import Pipeline\n",
    "from sklearn.model_selection import cross_val_score,ShuffleSplit\n",
    "\n",
    "text_clf = Pipeline([('vect', CountVectorizer()),\n",
    "                    ('tfidf',TfidfTransformer()),\n",
    "                    ('clf', MultinomialNB()),])\n",
    "cv = ShuffleSplit(n_splits=3,test_size = .3)\n",
    "cross_val_score(text_clf,X_train,y_train,cv=cv)"
   ]
  },
  {
   "cell_type": "code",
   "execution_count": 226,
   "metadata": {},
   "outputs": [
    {
     "data": {
      "text/plain": [
       "array([ 0.80135823,  0.81833616,  0.79966044])"
      ]
     },
     "execution_count": 226,
     "metadata": {},
     "output_type": "execute_result"
    }
   ],
   "source": [
    "from sklearn.linear_model import SGDClassifier\n",
    "text_clf = Pipeline([('vect', CountVectorizer()),\n",
    "                    ('tfidf',TfidfTransformer()),\n",
    "                    ('clf', SGDClassifier(loss='hinge',\n",
    "                                          alpha=1e-3,random_state=42))])\n",
    "cross_val_score(text_clf,X_train,y_train,cv=cv)"
   ]
  },
  {
   "cell_type": "code",
   "execution_count": 227,
   "metadata": {},
   "outputs": [
    {
     "data": {
      "text/plain": [
       "array([ 0.72495756,  0.77589134,  0.77928693])"
      ]
     },
     "execution_count": 227,
     "metadata": {},
     "output_type": "execute_result"
    }
   ],
   "source": [
    "from sklearn.neighbors import KNeighborsClassifier\n",
    "text_clf = Pipeline([('vect', CountVectorizer()),\n",
    "                    ('tfidf',TfidfTransformer()),\n",
    "                    ('clf', KNeighborsClassifier())])\n",
    "cross_val_score(text_clf,X_train,y_train,cv=cv)"
   ]
  },
  {
   "cell_type": "code",
   "execution_count": 228,
   "metadata": {},
   "outputs": [
    {
     "data": {
      "text/plain": [
       "array([ 0.80814941,  0.82342954,  0.81154499])"
      ]
     },
     "execution_count": 228,
     "metadata": {},
     "output_type": "execute_result"
    }
   ],
   "source": [
    "from sklearn.linear_model import LogisticRegression\n",
    "text_clf = Pipeline([('vect', CountVectorizer()),\n",
    "                    ('tfidf',TfidfTransformer()),\n",
    "                    ('clf', LogisticRegression())])\n",
    "cross_val_score(text_clf,X_train,y_train,cv=cv)"
   ]
  },
  {
   "cell_type": "code",
   "execution_count": 229,
   "metadata": {},
   "outputs": [
    {
     "data": {
      "text/plain": [
       "array([ 0.70628183,  0.73514431,  0.69439728])"
      ]
     },
     "execution_count": 229,
     "metadata": {},
     "output_type": "execute_result"
    }
   ],
   "source": [
    "from sklearn.tree import DecisionTreeClassifier\n",
    "text_clf = Pipeline([('vect', CountVectorizer()),\n",
    "                    ('tfidf',TfidfTransformer()),\n",
    "                    ('clf', DecisionTreeClassifier())])\n",
    "cross_val_score(text_clf,X_train,y_train,cv=cv)"
   ]
  },
  {
   "cell_type": "code",
   "execution_count": 230,
   "metadata": {},
   "outputs": [
    {
     "data": {
      "text/plain": [
       "array([ 0.47198642,  0.69269949,  0.67402377])"
      ]
     },
     "execution_count": 230,
     "metadata": {},
     "output_type": "execute_result"
    }
   ],
   "source": [
    "from sklearn.svm import SVC\n",
    "text_clf = Pipeline([('vect', CountVectorizer()),\n",
    "                    ('tfidf',TfidfTransformer()),\n",
    "                    ('clf', SVC())])\n",
    "cross_val_score(text_clf,X_train,y_train,cv=cv)"
   ]
  }
 ],
 "metadata": {
  "kernelspec": {
   "display_name": "Python 3",
   "language": "python",
   "name": "python3"
  },
  "language_info": {
   "codemirror_mode": {
    "name": "ipython",
    "version": 3
   },
   "file_extension": ".py",
   "mimetype": "text/x-python",
   "name": "python",
   "nbconvert_exporter": "python",
   "pygments_lexer": "ipython3",
   "version": "3.6.4"
  }
 },
 "nbformat": 4,
 "nbformat_minor": 2
}
