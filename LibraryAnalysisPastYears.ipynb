{
 "cells": [
  {
   "cell_type": "markdown",
   "metadata": {},
   "source": [
    "# Past Years Library Usage\n",
    "\n",
    "Business Question:\n",
    "\n",
    "    The San Francisco Library is attempting to increase their annual patrons by re-exposing old patrons with targeted advertisement. \n",
    "\n",
    "This is an in depth analysis with the goal of understanding and classifying the old patrons into useful segments. \n",
    "\n",
    "Assumptions: \n",
    "- There are no incorrect values\n",
    "- Only patrons from 2016 may be considered active"
   ]
  },
  {
   "cell_type": "code",
   "execution_count": null,
   "metadata": {
    "collapsed": true
   },
   "outputs": [],
   "source": [
    "#import and read in data\n",
    "\n",
    "import pandas as pd \n",
    "import numpy as np\n",
    "import seaborn as sb\n",
    "from matplotlib import rcParams\n",
    "import matplotlib.pyplot as plt\n",
    "\n",
    "%matplotlib inline\n",
    "sb.set_style('whitegrid')\n",
    "fig = plt.figure()\n",
    "\n",
    "data = pd.read_csv('C:/Users/Scott/Desktop/Data/Library_Usage.csv')"
   ]
  },
  {
   "cell_type": "markdown",
   "metadata": {},
   "source": [
    "#### KMeans Clustering"
   ]
  },
  {
   "cell_type": "code",
   "execution_count": null,
   "metadata": {
    "collapsed": true
   },
   "outputs": [],
   "source": [
    "from sklearn.cluster import KMeans\n",
    "from scipy import stats\n",
    "from sklearn.preprocessing import scale \n",
    "from sklearn.preprocessing import LabelEncoder\n",
    "\n",
    "meaner = df.loc[:,('Total Checkouts','Total Renewals')]\n",
    "num = LabelEncoder()\n",
    "meaner['bin_age'] = num.fit_transform(df['Age Range'].astype('str'))\n",
    "meaner['bin_Library'] = num.fit_transform(df['Home Library Definition'].astype('str'))\n",
    "meaner['bin_Month'] = num.fit_transform(df['Circulation Active Month'].astype('str'))\n",
    "meaner['bin_year'] = num.fit_transform(df['Circulation Active Year'].astype('str'))\n",
    "meaner['bin_notice'] = num.fit_transform(df['Notice Preference Definition'].astype('str'))\n",
    "meaner['bin_email'] = num.fit_transform(df['Provided Email Address'].astype('str'))\n",
    "meaner['bin_registered'] = num.fit_transform(df['Year Patron Registered'].astype('str'))\n",
    "meaner['bin_county'] = num.fit_transform(df['Outside of County'].astype('str'))\n",
    "meaner = meaner.sample(frac=.05)\n",
    "kmeans = KMeans(n_clusters=5)\n",
    "kmeans = kmeans.fit(meaner)\n",
    "labels = kmeans.labels_\n",
    "\n",
    "\n",
    "plt.figure(figsize=(8,6))\n",
    "plt.scatter(meaner['Total Checkouts'], meaner['Total Renewals'], c=labels,cmap='rainbow')\n",
    "plt.ylabel('Total Renewals')\n",
    "plt.xlabel('Total Checkouts')\n",
    "plt.show()"
   ]
  },
  {
   "cell_type": "markdown",
   "metadata": {},
   "source": [
    "This graphic hints at an idea of how a classifier may work."
   ]
  },
  {
   "cell_type": "markdown",
   "metadata": {},
   "source": [
    "#### SVM Classifier"
   ]
  },
  {
   "cell_type": "code",
   "execution_count": null,
   "metadata": {
    "collapsed": true
   },
   "outputs": [],
   "source": [
    "from sklearn import svm\n",
    "from sklearn.model_selection import train_test_split\n",
    "\n",
    "data = df.sample(frac=.05)\n",
    "datay = data['Age Range']\n",
    "\n",
    "data = data.drop('Patron Type Definition',1)\n",
    "data = data.drop('Total Checkouts',1)\n",
    "data = data.drop('Total Renewals',1)\n",
    "\n",
    "datax = pd.get_dummies(data)\n",
    "y = datay\n",
    "x = datax.join(df['Total Checkouts'])\n",
    "x = x.join(df['Total Renewals'])     \n",
    "                              \n",
    "x_train, x_test, y_train, y_test = train_test_split(x, y, test_size = 0.3)\n",
    "\n",
    "clf = svm.SVC()\n",
    "clf.fit(x_train, y_train)\n",
    "predict = clf.predict(x_test)\n",
    "\n",
    "print('train')\n",
    "print(clf.score(x_train,y_train))\n",
    "print('test')\n",
    "print(clf.score(x_test,y_test))\n",
    "\n",
    "plt.figure(figsize=(25,25))\n",
    "true_rfc = x_test.loc[:,('Total Checkouts','Total Renewals')]\n",
    "true_rfc['true_type'] = y_test\n",
    "sb.pairplot(true_rfc, hue = 'true_type', palette = 'hls')\n",
    "\n",
    "pred_rfc = x_test.loc[:,('Total Checkouts','Total Renewals')]\n",
    "pred_rfc['predicted_range'] = predict\n",
    "sb.pairplot(pred_rfc, hue = 'predicted_range', palette = 'hls')"
   ]
  },
  {
   "cell_type": "markdown",
   "metadata": {},
   "source": [
    "These are the predicted groupings of train and test models. With the score being around 80% in the train model, but dropping significantly to 68% in the test. The large drop suggests there are problems with the model. In order to receive a better test score, it may be worth while to segment the users back into the low, high, and outlier slices."
   ]
  },
  {
   "cell_type": "code",
   "execution_count": null,
   "metadata": {
    "collapsed": true
   },
   "outputs": [],
   "source": [
    "print(len(low_df_slice))\n",
    "print(len(high_df_slice))\n",
    "print(len(outlier_df_slice))"
   ]
  },
  {
   "cell_type": "markdown",
   "metadata": {},
   "source": [
    "### Low Activity "
   ]
  },
  {
   "cell_type": "code",
   "execution_count": null,
   "metadata": {
    "collapsed": true
   },
   "outputs": [],
   "source": [
    "data = low_df_slice.sample(frac=.01)\n",
    "datay = data['Age Range']\n",
    "\n",
    "data = data.drop('Patron Type Definition',1)\n",
    "data = data.drop('Total Checkouts',1)\n",
    "data = data.drop('Total Renewals',1)\n",
    "\n",
    "datax = pd.get_dummies(data)\n",
    "y = datay\n",
    "x = datax.join(df['Total Checkouts'])\n",
    "x = x.join(df['Total Renewals'])     \n",
    "                              \n",
    "x_train, x_test, y_train, y_test = train_test_split(x, y, test_size = 0.3)\n",
    "\n",
    "clf = svm.SVC()\n",
    "clf.fit(x_train, y_train)\n",
    "predict = clf.predict(x_test)\n",
    "\n",
    "print('train')\n",
    "print(clf.score(x_train,y_train))\n",
    "print('test')\n",
    "print(clf.score(x_test,y_test))\n",
    "\n",
    "plt.figure(figsize=(25,25))\n",
    "low_true_rfc = x_test.loc[:,('Total Checkouts','Total Renewals')]\n",
    "low_true_rfc['true_type'] = y_test\n",
    "\n",
    "low_pred_rfc = x_test.loc[:,('Total Checkouts','Total Renewals')]\n",
    "low_pred_rfc['predicted_range'] = predict\n",
    "\n",
    "sb.pairplot(low_true_rfc, hue = 'true_type', palette = 'hls')\n",
    "plt.title('Low Activity Training')\n",
    "\n",
    "sb.pairplot(low_pred_rfc, hue = 'predicted_range', palette = 'hls')\n",
    "plt.title('Low Activity Test')"
   ]
  },
  {
   "cell_type": "markdown",
   "metadata": {},
   "source": [
    "### High Activity"
   ]
  },
  {
   "cell_type": "code",
   "execution_count": null,
   "metadata": {
    "collapsed": true
   },
   "outputs": [],
   "source": [
    "data = high_df_slice.sample(frac=.05)\n",
    "datay = data['Age Range']\n",
    "\n",
    "data = data.drop('Patron Type Definition',1)\n",
    "data = data.drop('Total Checkouts',1)\n",
    "data = data.drop('Total Renewals',1)\n",
    "\n",
    "datax = pd.get_dummies(data)\n",
    "y = datay\n",
    "x = datax.join(df['Total Checkouts'])\n",
    "x = x.join(df['Total Renewals'])     \n",
    "                              \n",
    "x_train, x_test, y_train, y_test = train_test_split(x, y, test_size = 0.3)\n",
    "\n",
    "clf = svm.SVC()\n",
    "clf.fit(x_train, y_train)\n",
    "predict = clf.predict(x_test)\n",
    "\n",
    "print('train')\n",
    "print(clf.score(x_train,y_train))\n",
    "print('test')\n",
    "print(clf.score(x_test,y_test))\n",
    "\n",
    "plt.figure(figsize=(25,25))\n",
    "high_true_rfc = x_test.loc[:,('Total Checkouts','Total Renewals')]\n",
    "high_true_rfc['true_type'] = y_test\n",
    "\n",
    "high_pred_rfc = x_test.loc[:,('Total Checkouts','Total Renewals')]\n",
    "high_pred_rfc['predicted_range'] = predict\n",
    "\n",
    "sb.pairplot(high_true_rfc, hue = 'true_type', palette = 'hls')\n",
    "plt.title('High Activity Training')\n",
    "\n",
    "sb.pairplot(high_pred_rfc, hue = 'predicted_range', palette = 'hls')\n",
    "plt.title('High Activity Test')"
   ]
  },
  {
   "cell_type": "markdown",
   "metadata": {},
   "source": [
    "### Outliers"
   ]
  },
  {
   "cell_type": "code",
   "execution_count": null,
   "metadata": {
    "collapsed": true
   },
   "outputs": [],
   "source": [
    "data = outlier_df_slice.sample(frac=.05)\n",
    "datay = data['Age Range']\n",
    "\n",
    "data = data.drop('Patron Type Definition',1)\n",
    "data = data.drop('Total Checkouts',1)\n",
    "data = data.drop('Total Renewals',1)\n",
    "\n",
    "datax = pd.get_dummies(data)\n",
    "y = datay\n",
    "x = datax.join(df['Total Checkouts'])\n",
    "x = x.join(df['Total Renewals'])     \n",
    "                              \n",
    "x_train, x_test, y_train, y_test = train_test_split(x, y, test_size = 0.3)\n",
    "\n",
    "clf = svm.SVC()\n",
    "clf.fit(x_train, y_train)\n",
    "predict = clf.predict(x_test)\n",
    "\n",
    "print('train')\n",
    "print(clf.score(x_train,y_train))\n",
    "print('test')\n",
    "print(clf.score(x_test,y_test))\n",
    "\n",
    "plt.figure(figsize=(25,25))\n",
    "out_true_rfc = x_test.loc[:,('Total Checkouts','Total Renewals')]\n",
    "out_true_rfc['true_type'] = y_test\n",
    "out_pred_rfc = x_test.loc[:,('Total Checkouts','Total Renewals')]\n",
    "out_pred_rfc['predicted_range'] = predict\n",
    "\n",
    "sb.pairplot(out_true_rfc, hue = 'true_type', palette = 'hls')\n",
    "plt.title('Outliers Training')\n",
    "\n",
    "sb.pairplot(out_pred_rfc, hue = 'predicted_range', palette = 'hls')\n",
    "plt.title('Outliers Test')"
   ]
  }
 ],
 "metadata": {
  "kernelspec": {
   "display_name": "Python 3",
   "language": "python",
   "name": "python3"
  },
  "language_info": {
   "codemirror_mode": {
    "name": "ipython",
    "version": 3
   },
   "file_extension": ".py",
   "mimetype": "text/x-python",
   "name": "python",
   "nbconvert_exporter": "python",
   "pygments_lexer": "ipython3",
   "version": "3.6.0"
  }
 },
 "nbformat": 4,
 "nbformat_minor": 2
}
